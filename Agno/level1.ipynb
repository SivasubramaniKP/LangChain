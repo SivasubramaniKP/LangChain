{
 "cells": [
  {
   "cell_type": "code",
   "execution_count": 1,
   "id": "7bc131c2",
   "metadata": {},
   "outputs": [],
   "source": [
    "from agno.agent import Agent\n",
    "from agno.models.google import Gemini\n",
    "from agno.tools.yfinance import YFinanceTools"
   ]
  },
  {
   "cell_type": "code",
   "execution_count": 2,
   "id": "1e808252",
   "metadata": {},
   "outputs": [],
   "source": [
    "agent = Agent(\n",
    "    model=Gemini(id=\"gemini-2.0-flash\"),\n",
    "    tools = [ YFinanceTools(stock_price=True) ],\n",
    "    instructions = \"\",\n",
    "    markdown=True\n",
    ")"
   ]
  },
  {
   "cell_type": "code",
   "execution_count": 3,
   "id": "68ccf080",
   "metadata": {},
   "outputs": [
    {
     "data": {
      "text/plain": [
       "Agent(model=Gemini(id='gemini-2.0-flash', name='Gemini', provider='Google', supports_native_structured_outputs=True, supports_json_schema_outputs=False, _tool_choice=None, system_prompt=None, instructions=None, tool_message_role='tool', assistant_message_role='assistant', function_declarations=None, generation_config=None, safety_settings=None, generative_model_kwargs=None, search=False, grounding=False, grounding_dynamic_threshold=None, temperature=None, top_p=None, top_k=None, max_output_tokens=None, stop_sequences=None, logprobs=None, presence_penalty=None, frequency_penalty=None, seed=None, response_modalities=None, speech_config=None, cached_content=None, request_params=None, api_key=None, vertexai=False, project_id=None, location=None, client_params=None, client=None), name=None, agent_id=None, introduction=None, user_id=None, session_id=None, session_name=None, session_state=None, search_previous_sessions_history=False, num_history_sessions=None, context=None, add_context=False, resolve_context=True, memory=None, enable_agentic_memory=False, enable_user_memories=False, add_memory_references=None, enable_session_summaries=False, add_session_summary_references=None, add_history_to_messages=False, num_history_responses=None, num_history_runs=3, knowledge=None, knowledge_filters=None, enable_agentic_knowledge_filters=None, add_references=False, retriever=None, references_format='json', storage=None, extra_data=None, tools=[<YFinanceTools name=yfinance_tools functions=['get_current_stock_price']>], show_tool_calls=True, tool_call_limit=None, tool_choice=None, tool_hooks=None, reasoning=False, reasoning_model=None, reasoning_agent=None, reasoning_min_steps=1, reasoning_max_steps=10, read_chat_history=False, search_knowledge=True, update_knowledge=False, read_tool_call_history=False, system_message=None, system_message_role='system', create_default_system_message=True, description=None, goal=None, instructions='', expected_output=None, additional_context=None, markdown=True, add_name_to_instructions=False, add_datetime_to_instructions=False, add_location_to_instructions=False, timezone_identifier=None, add_state_in_messages=False, add_messages=None, success_criteria=None, user_message=None, user_message_role='user', create_default_user_message=True, retries=0, delay_between_retries=1, exponential_backoff=False, response_model=None, parser_model=None, parser_model_prompt=None, parse_response=True, structured_outputs=None, use_json_mode=False, save_response_to_file=None, stream=None, stream_intermediate_steps=False, team=None, team_data=None, role=None, respond_directly=False, add_transfer_instructions=True, team_response_separator='\\n', team_session_id=None, team_id=None, app_id=None, workflow_id=None, team_session_state=None, debug_mode=False, monitoring=False, telemetry=True)"
      ]
     },
     "execution_count": 3,
     "metadata": {},
     "output_type": "execute_result"
    }
   ],
   "source": [
    "agent"
   ]
  },
  {
   "cell_type": "code",
   "execution_count": 4,
   "id": "43a27ef8",
   "metadata": {},
   "outputs": [
    {
     "data": {
      "application/vnd.jupyter.widget-view+json": {
       "model_id": "e9641f14581f427b8d6b3df0d00feaa5",
       "version_major": 2,
       "version_minor": 0
      },
      "text/plain": [
       "Output()"
      ]
     },
     "metadata": {},
     "output_type": "display_data"
    },
    {
     "data": {
      "text/html": [
       "<pre style=\"white-space:pre;overflow-x:auto;line-height:normal;font-family:Menlo,'DejaVu Sans Mono',consolas,'Courier New',monospace\"></pre>\n"
      ],
      "text/plain": []
     },
     "metadata": {},
     "output_type": "display_data"
    }
   ],
   "source": [
    "agent.print_response(\"how you doing\", stream=True)"
   ]
  },
  {
   "cell_type": "code",
   "execution_count": 27,
   "id": "4b8b3768",
   "metadata": {},
   "outputs": [],
   "source": [
    "from agno.knowledge.url import UrlKnowledge\n",
    "from agno.vectordb.lancedb import LanceDb, SearchType\n",
    "from agno.embedder.google import GeminiEmbedder\n",
    "knowledge = UrlKnowledge(\n",
    "    urls=[\"https://docs.agno.com/introduction.md\"],\n",
    "    vector_db=LanceDb(\n",
    "        uri=\"tmp/lancedb\",\n",
    "        table_name=\"agno_docs\",\n",
    "        search_type=SearchType.hybrid,\n",
    "        # Use OpenAI for embeddings\n",
    "        embedder=GeminiEmbedder()\n",
    "    ),\n",
    ")\n"
   ]
  },
  {
   "cell_type": "code",
   "execution_count": 28,
   "id": "5e701069",
   "metadata": {},
   "outputs": [],
   "source": [
    "from agno.storage.sqlite import SqliteStorage\n",
    "\n",
    "storage = SqliteStorage(table_name=\"agent_sessions\", db_file=\"tmp/agent.db\")"
   ]
  },
  {
   "cell_type": "code",
   "execution_count": null,
   "id": "36f320f3",
   "metadata": {},
   "outputs": [
    {
     "data": {
      "text/html": [
       "<pre style=\"white-space:pre;overflow-x:auto;line-height:normal;font-family:Menlo,'DejaVu Sans Mono',consolas,'Courier New',monospace\"><span style=\"color: #000080; text-decoration-color: #000080\">INFO</span> Loading knowledge base                                                                                        \n",
       "</pre>\n"
      ],
      "text/plain": [
       "\u001b[34mINFO\u001b[0m Loading knowledge base                                                                                        \n"
      ]
     },
     "metadata": {},
     "output_type": "display_data"
    },
    {
     "data": {
      "text/html": [
       "<pre style=\"white-space:pre;overflow-x:auto;line-height:normal;font-family:Menlo,'DejaVu Sans Mono',consolas,'Courier New',monospace\"><span style=\"color: #000080; text-decoration-color: #000080\">INFO</span> Skipped <span style=\"color: #008080; text-decoration-color: #008080; font-weight: bold\">2</span> existing/duplicate documents.                                                                       \n",
       "</pre>\n"
      ],
      "text/plain": [
       "\u001b[34mINFO\u001b[0m Skipped \u001b[1;36m2\u001b[0m existing/duplicate documents.                                                                       \n"
      ]
     },
     "metadata": {},
     "output_type": "display_data"
    },
    {
     "data": {
      "text/html": [
       "<pre style=\"white-space:pre;overflow-x:auto;line-height:normal;font-family:Menlo,'DejaVu Sans Mono',consolas,'Courier New',monospace\"><span style=\"color: #000080; text-decoration-color: #000080\">INFO</span> Added <span style=\"color: #008080; text-decoration-color: #008080; font-weight: bold\">0</span> documents to knowledge base                                                                           \n",
       "</pre>\n"
      ],
      "text/plain": [
       "\u001b[34mINFO\u001b[0m Added \u001b[1;36m0\u001b[0m documents to knowledge base                                                                           \n"
      ]
     },
     "metadata": {},
     "output_type": "display_data"
    },
    {
     "data": {
      "application/vnd.jupyter.widget-view+json": {
       "model_id": "cf7412840e9741218141886ae63aaf11",
       "version_major": 2,
       "version_minor": 0
      },
      "text/plain": [
       "Output()"
      ]
     },
     "metadata": {},
     "output_type": "display_data"
    },
    {
     "data": {
      "text/html": [
       "<pre style=\"white-space:pre;overflow-x:auto;line-height:normal;font-family:Menlo,'DejaVu Sans Mono',consolas,'Courier New',monospace\"><span style=\"color: #000080; text-decoration-color: #000080\">INFO</span> Found <span style=\"color: #008080; text-decoration-color: #008080; font-weight: bold\">2</span> documents                                                                                             \n",
       "</pre>\n"
      ],
      "text/plain": [
       "\u001b[34mINFO\u001b[0m Found \u001b[1;36m2\u001b[0m documents                                                                                             \n"
      ]
     },
     "metadata": {},
     "output_type": "display_data"
    },
    {
     "data": {
      "text/html": [
       "<pre style=\"white-space:pre;overflow-x:auto;line-height:normal;font-family:Menlo,'DejaVu Sans Mono',consolas,'Courier New',monospace\"></pre>\n"
      ],
      "text/plain": []
     },
     "metadata": {},
     "output_type": "display_data"
    }
   ],
   "source": [
    "agent = Agent(\n",
    "    name = \"Agno Assist\",\n",
    "    model = Gemini(id = \"gemini-2.0-flash\"),\n",
    "    instructions = [\n",
    "        \"Search the knowledge base before responding\",\n",
    "        \"Only include the result in your output, No other text\"\n",
    "    ],\n",
    "    knowledge= knowledge,\n",
    "    storage= storage,\n",
    "    add_history_to_messages=True,\n",
    "    num_history_runs= 3,\n",
    "    markdown=True\n",
    ")\n",
    "# agent.knowledge.load(recreate=False)\n",
    "agent.print_response(\"Summarize the docs\", stream=True)\n"
   ]
  },
  {
   "cell_type": "code",
   "execution_count": null,
   "id": "f9096465",
   "metadata": {},
   "outputs": [],
   "source": []
  },
  {
   "cell_type": "code",
   "execution_count": null,
   "id": "259c30ab",
   "metadata": {},
   "outputs": [
    {
     "data": {
      "application/vnd.jupyter.widget-view+json": {
       "model_id": "e0c58eaeca344b529aa949b1cbb2af1b",
       "version_major": 2,
       "version_minor": 0
      },
      "text/plain": [
       "Output()"
      ]
     },
     "metadata": {},
     "output_type": "display_data"
    },
    {
     "data": {
      "text/html": [
       "<pre style=\"white-space:pre;overflow-x:auto;line-height:normal;font-family:Menlo,'DejaVu Sans Mono',consolas,'Courier New',monospace\"></pre>\n"
      ],
      "text/plain": []
     },
     "metadata": {},
     "output_type": "display_data"
    }
   ],
   "source": [
    "agent = Agent(\n",
    "    model = Gemini(id = \"gemini-2.0-flash\"),\n",
    "    markdown=True,\n",
    "\n",
    ")\n",
    "agent.print_response(\"what is API \", stream=True)"
   ]
  },
  {
   "cell_type": "code",
   "execution_count": null,
   "id": "6429e946",
   "metadata": {},
   "outputs": [],
   "source": []
  }
 ],
 "metadata": {
  "kernelspec": {
   "display_name": "venv",
   "language": "python",
   "name": "python3"
  },
  "language_info": {
   "codemirror_mode": {
    "name": "ipython",
    "version": 3
   },
   "file_extension": ".py",
   "mimetype": "text/x-python",
   "name": "python",
   "nbconvert_exporter": "python",
   "pygments_lexer": "ipython3",
   "version": "3.10.7"
  }
 },
 "nbformat": 4,
 "nbformat_minor": 5
}
