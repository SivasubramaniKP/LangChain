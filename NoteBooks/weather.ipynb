{
 "cells": [
  {
   "cell_type": "code",
   "execution_count": 1,
   "id": "4dd262a0",
   "metadata": {},
   "outputs": [],
   "source": [
    "from langgraph.graph import Graph, START, END\n",
    "from typing import TypedDict, List, Annotated, Literal\n",
    "class State(TypedDict):\n",
    "    typeOfQuestion : Literal['Weather', 'Course', 'General']\n",
    "    weather : str\n",
    "    CourseResult : str\n",
    "    result : str\n",
    "    Query : str"
   ]
  },
  {
   "cell_type": "code",
   "execution_count": 2,
   "id": "75812485",
   "metadata": {},
   "outputs": [],
   "source": [
    "from langchain.chat_models import init_chat_model\n",
    "\n",
    "model =  init_chat_model(\n",
    "    \"gemini-2.0-flash\",\n",
    "    model_provider= \"google_genai\"\n",
    ")\n"
   ]
  },
  {
   "cell_type": "code",
   "execution_count": null,
   "id": "ce6f34e1",
   "metadata": {},
   "outputs": [],
   "source": [
    "def getCourseInfo(state: State):\n",
    "    response = graph.invoke({\n",
    "        \"question\" : state[\"Query\"]\n",
    "    })\n",
    "    print(\"COURSE RESULT :  \" + response[\"answer\"])\n",
    "    return {\n",
    "        \"CourseResult\" : response[\"answer\"]\n",
    "    }"
   ]
  },
  {
   "cell_type": "code",
   "execution_count": null,
   "id": "0525d0a4",
   "metadata": {},
   "outputs": [],
   "source": []
  },
  {
   "cell_type": "code",
   "execution_count": 4,
   "id": "07800e01",
   "metadata": {},
   "outputs": [],
   "source": [
    "def getQuery(state: State):\n",
    "    userInput = input()\n",
    "    return {\n",
    "        \"Query\" : userInput\n",
    "    }"
   ]
  },
  {
   "cell_type": "code",
   "execution_count": 5,
   "id": "3090dfcb",
   "metadata": {},
   "outputs": [],
   "source": [
    "def ClassifyQuery(state: State):\n",
    "    from langchain_core.prompts import PromptTemplate\n",
    "\n",
    "    prompt_template = PromptTemplate.from_template(\"Classify if its related to Weather or Course or General: {query}. and provide output in a single word\")\n",
    "\n",
    "    prompt = prompt_template.invoke({\n",
    "        \"query\" : state[\"Query\"]\n",
    "    })\n",
    "    response = model.invoke(prompt)\n",
    "    print(\"CLASSIFYING QUERY : \" + response.content)\n",
    "    return response.content"
   ]
  },
  {
   "cell_type": "code",
   "execution_count": 6,
   "id": "06c3bd12",
   "metadata": {},
   "outputs": [],
   "source": [
    "from pydantic import BaseModel, Field\n",
    "class ResponseFormatter(BaseModel):\n",
    "    city: str = Field(description=\"If the User asks for weather in a particular city, fill this field with the city without any spelling errors, else fill it as None\")\n",
    "    Coordinates: List[float] = Field(description=\"If the user inputs latitude and longitude of a location, return the latitude and longitude as a list of arrays\")\n",
    "\n",
    "    "
   ]
  },
  {
   "cell_type": "code",
   "execution_count": 7,
   "id": "674304bc",
   "metadata": {},
   "outputs": [],
   "source": [
    "def predictWeather(state: State):\n",
    "    \n",
    "    \n",
    "\n",
    "    import time\n",
    "    import weatherapi\n",
    "    from weatherapi.rest import ApiException\n",
    "    from pprint import pprint\n",
    "\n",
    "    model_OS = model.with_structured_output(ResponseFormatter)\n",
    "    structured_Output = model_OS.invoke(state[\"Query\"])\n",
    "    structured_Output\n",
    "\n",
    "    configuration = weatherapi.Configuration()\n",
    "    configuration.api_key['key'] = 'e00b8e34d43b4cbea5380937250906'\n",
    "    api_instance = weatherapi.APIsApi(weatherapi.ApiClient(configuration))\n",
    "    # q = str(lat) + ',' + str(lng) # str | Pass US Zipcode, UK Postcode, Canada Postalcode, IP address, Latitude/Longitude (decimal degree) or city name. Visit [request parameter section](https://www.weatherapi.com/docs/#intro-request) to learn more.\n",
    "    dt = '2025-05-09' # date | Date on or after 1st Jan, 2015 in yyyy-MM-dd format\n",
    "    \n",
    "    if structured_Output.city== 'None':\n",
    "        lat, lng = structured_Output.Coordinates\n",
    "        q = str(lat) + \",\" + str(lng) \n",
    "        print(\"GIVEN COORDINATES : \" + q)\n",
    "    else:\n",
    "        q = structured_Output.city\n",
    "        print(\"GIVEN CITY : \" + q)\n",
    "\n",
    "    try:\n",
    "        # Astronomy API\n",
    "        api_response = api_instance.forecast_weather(q, dt)\n",
    "        pprint(api_response['current']['condition']['text'])\n",
    "        return {\n",
    "            \"weather\" : api_response['current']['condition']['text']\n",
    "        }\n",
    "    except ApiException as e:\n",
    "           print(\"Exception when calling APIsApi->astronomy: %s\\n\" % e)"
   ]
  },
  {
   "cell_type": "code",
   "execution_count": null,
   "id": "07793f94",
   "metadata": {},
   "outputs": [],
   "source": []
  },
  {
   "cell_type": "code",
   "execution_count": 8,
   "id": "5508a924",
   "metadata": {},
   "outputs": [
    {
     "data": {
      "text/plain": [
       "'Course'"
      ]
     },
     "execution_count": 8,
     "metadata": {},
     "output_type": "execute_result"
    }
   ],
   "source": [
    "\n",
    "from langchain_core.prompts import PromptTemplate\n",
    "prompt_template = PromptTemplate.from_template(\"Classify if its related to Weather or Course: {query}. and provide output in a single word\")\n",
    "prompt = prompt_template.invoke({\n",
    "    \"query\" : \"no of credits for 22CS610\" \n",
    "})\n",
    "response = model.invoke(prompt)\n",
    "response.content"
   ]
  },
  {
   "cell_type": "code",
   "execution_count": 9,
   "id": "2282d249",
   "metadata": {},
   "outputs": [],
   "source": [
    "def GeneralQuery(state: State):\n",
    "    response = model.invoke(state[\"Query\"])\n",
    "    print(response.content)\n",
    "    return {\n",
    "        \"result\": response.content\n",
    "    } "
   ]
  },
  {
   "cell_type": "code",
   "execution_count": null,
   "id": "f2cc8e18",
   "metadata": {},
   "outputs": [
    {
     "name": "stdout",
     "output_type": "stream",
     "text": [
      "CLASSIFYING QUERY : General\n",
      "Okay, Sai! It's nice to meet you. How can I help you today?\n",
      "CLASSIFYING QUERY : General\n",
      "As a large language model, I don't have access to personal information. Therefore, I don't know your name. You haven't told me!\n",
      "CLASSIFYING QUERY : General\n",
      "Okay! Is there anything specific you'd like me to do with \"fghjk\"? \n",
      "\n",
      "For example, are you:\n",
      "\n",
      "*   **Testing if I can read it?** (I can!)\n",
      "*   **Wanting me to spell it out?** (F-G-H-J-K)\n",
      "*   **Looking for words that contain these letters?**\n",
      "*   **Trying to start a conversation?**\n",
      "\n",
      "Let me know what you're thinking!\n",
      "CLASSIFYING QUERY : General\n",
      "Okay, let's convert 2 billion US dollars to Indian Rupees and express it in words.\n",
      "\n",
      "**1. Conversion Rate:**\n",
      "\n",
      "As of November 2nd, 2024, the approximate exchange rate is:\n",
      "\n",
      "1 USD = 83.32 INR (This rate fluctuates, so it's always best to check a reliable source like Google Finance, a bank, or a currency converter for the most up-to-date rate.)\n",
      "\n",
      "**2. Calculation:**\n",
      "\n",
      "2,000,000,000 USD * 83.32 INR/USD = 166,640,000,000 INR\n",
      "\n",
      "**3. In Words (Indian Numbering System):**\n",
      "\n",
      "One hundred sixty-six billion sixty-four crore Rupees.\n"
     ]
    }
   ],
   "source": [
    "from langgraph.graph import START, END, StateGraph\n",
    "\n",
    "graphBuilder =  StateGraph(State)\n",
    "graphBuilder.add_node(\"getQuery\", getQuery)\n",
    "# graphBuilder.add_node(\"ClassifyQuery\", ClassifyQuery)\n",
    "graphBuilder.add_node(\"Weather\", predictWeather)\n",
    "graphBuilder.add_node(\"Course\", getCourseInfo)\n",
    "graphBuilder.add_node(\"General\", GeneralQuery)\n",
    "\n",
    "graphBuilder.add_edge(START, \"getQuery\")\n",
    "graphBuilder.add_conditional_edges(\"getQuery\", ClassifyQuery, {\n",
    "    \"Weather\": \"Weather\",\n",
    "    \"Course\": \"Course\", \n",
    "    \"General\": \"General\"\n",
    "})\n",
    "graphBuilder.add_edge(\"Weather\", \"getQuery\")\n",
    "graphBuilder.add_edge(\"Course\", \"getQuery\")\n",
    "graphBuilder.add_edge(\"General\", \"getQuery\")\n",
    "\n",
    "graph = graphBuilder.compile()\n",
    "graph.invoke(input= {\n",
    "    \"typeOfQuestion\" : \"Weather\",\n",
    "    \"weather\" : \"\",\n",
    "    \"CourseResult\" : \"\",\n",
    "    \"Query\": \"\",\n",
    "    \"result\": \"\"\n",
    "}) \n",
    "\n"
   ]
  },
  {
   "cell_type": "code",
   "execution_count": null,
   "id": "1658ae84",
   "metadata": {},
   "outputs": [],
   "source": [
    "from IPython.display import Image, display\n",
    "\n",
    "display(Image(graph.get_graph().draw_mermaid_png()))"
   ]
  }
 ],
 "metadata": {
  "kernelspec": {
   "display_name": "venv",
   "language": "python",
   "name": "python3"
  },
  "language_info": {
   "codemirror_mode": {
    "name": "ipython",
    "version": 3
   },
   "file_extension": ".py",
   "mimetype": "text/x-python",
   "name": "python",
   "nbconvert_exporter": "python",
   "pygments_lexer": "ipython3",
   "version": "3.10.7"
  }
 },
 "nbformat": 4,
 "nbformat_minor": 5
}
