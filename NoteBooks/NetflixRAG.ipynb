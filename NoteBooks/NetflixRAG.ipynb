{
 "cells": [
  {
   "cell_type": "markdown",
   "id": "3061546d",
   "metadata": {},
   "source": [
    "Knowledge retrieval and Vector Store\n",
    "\n",
    "    Knowledge is domain-specific information that the Agent can search at runtime to make better decisions\n",
    "    Knowledge is stored in a vector db and this searching on demand pattern is called Agentic RAG.\n",
    "\n",
    "    Agno Agents use Agentic RAG by default, meaning if you add knowledge to an Agent, it will search this knowledge base, at runtime, for the specific information it needs to achieve its task.\n",
    "\n"
   ]
  },
  {
   "cell_type": "code",
   "execution_count": 2,
   "id": "5e7499d6",
   "metadata": {},
   "outputs": [],
   "source": [
    "from agno.knowledge.csv import CSVKnowledgeBase\n",
    "from agno.embedder.google import GeminiEmbedder\n",
    "from agno.vectordb.mongodb import MongoDb\n",
    "from agno.models.google import Gemini\n",
    "from agno.agent import Agent\n",
    "import urllib.parse"
   ]
  },
  {
   "cell_type": "code",
   "execution_count": null,
   "id": "786a41d1",
   "metadata": {},
   "outputs": [],
   "source": [
    "from agno.vectordb.lancedb import LanceDb\n",
    "from agno.vectordb.search import SearchType\n",
    "\n",
    "\n",
    "vector_db = MongoDb(\n",
    "    db_url=\"mongodb+srv://sivasubramani:cluster0.4kcywr4.mongodb.net/?retryWrites=true&w=majority&appName=Cluster0\",\n",
    "    database=\"agno\",\n",
    "    embedder=GeminiEmbedder(),\n",
    "    collection_name=\"vectorStore\"\n",
    ")\n",
    "\n",
    "knowledge_base = CSVKnowledgeBase(\n",
    "    path=\"../CSV/netflix_data.csv\",\n",
    "    vector_db=vector_db,\n",
    "    num_documents=10,  \n",
    "\n",
    ")"
   ]
  },
  {
   "cell_type": "code",
   "execution_count": 4,
   "id": "7563de63",
   "metadata": {},
   "outputs": [],
   "source": [
    "agent = Agent(\n",
    "    knowledge=knowledge_base,\n",
    "    model=Gemini(id = \"gemini-2.0-flash\"),\n",
    "    search_knowledge=True,\n",
    ")\n"
   ]
  },
  {
   "cell_type": "code",
   "execution_count": 5,
   "id": "0336751c",
   "metadata": {},
   "outputs": [
    {
     "data": {
      "text/html": [
       "<pre style=\"white-space:pre;overflow-x:auto;line-height:normal;font-family:Menlo,'DejaVu Sans Mono',consolas,'Courier New',monospace\"><span style=\"color: #000080; text-decoration-color: #000080\">INFO</span> Connected to MongoDB successfully.                                                                            \n",
       "</pre>\n"
      ],
      "text/plain": [
       "\u001b[34mINFO\u001b[0m Connected to MongoDB successfully.                                                                            \n"
      ]
     },
     "metadata": {},
     "output_type": "display_data"
    },
    {
     "data": {
      "text/html": [
       "<pre style=\"white-space:pre;overflow-x:auto;line-height:normal;font-family:Menlo,'DejaVu Sans Mono',consolas,'Courier New',monospace\"><span style=\"color: #000080; text-decoration-color: #000080\">INFO</span> Loading knowledge base                                                                                        \n",
       "</pre>\n"
      ],
      "text/plain": [
       "\u001b[34mINFO\u001b[0m Loading knowledge base                                                                                        \n"
      ]
     },
     "metadata": {},
     "output_type": "display_data"
    },
    {
     "data": {
      "text/html": [
       "<pre style=\"white-space:pre;overflow-x:auto;line-height:normal;font-family:Menlo,'DejaVu Sans Mono',consolas,'Courier New',monospace\"><span style=\"color: #000080; text-decoration-color: #000080\">INFO</span> Reading: ..\\CSV\\netflix_data.csv                                                                              \n",
       "</pre>\n"
      ],
      "text/plain": [
       "\u001b[34mINFO\u001b[0m Reading: ..\\CSV\\netflix_data.csv                                                                              \n"
      ]
     },
     "metadata": {},
     "output_type": "display_data"
    },
    {
     "data": {
      "text/html": [
       "<pre style=\"white-space:pre;overflow-x:auto;line-height:normal;font-family:Menlo,'DejaVu Sans Mono',consolas,'Courier New',monospace\"><span style=\"color: #000080; text-decoration-color: #000080\">INFO</span> Using collection: vectorStore                                                                                 \n",
       "</pre>\n"
      ],
      "text/plain": [
       "\u001b[34mINFO\u001b[0m Using collection: vectorStore                                                                                 \n"
      ]
     },
     "metadata": {},
     "output_type": "display_data"
    },
    {
     "data": {
      "text/html": [
       "<pre style=\"white-space:pre;overflow-x:auto;line-height:normal;font-family:Menlo,'DejaVu Sans Mono',consolas,'Courier New',monospace\"><span style=\"color: #000080; text-decoration-color: #000080\">INFO</span> Skipped <span style=\"color: #008080; text-decoration-color: #008080; font-weight: bold\">3</span> existing/duplicate documents.                                                                       \n",
       "</pre>\n"
      ],
      "text/plain": [
       "\u001b[34mINFO\u001b[0m Skipped \u001b[1;36m3\u001b[0m existing/duplicate documents.                                                                       \n"
      ]
     },
     "metadata": {},
     "output_type": "display_data"
    },
    {
     "data": {
      "text/html": [
       "<pre style=\"white-space:pre;overflow-x:auto;line-height:normal;font-family:Menlo,'DejaVu Sans Mono',consolas,'Courier New',monospace\"><span style=\"color: #000080; text-decoration-color: #000080\">INFO</span> Added <span style=\"color: #008080; text-decoration-color: #008080; font-weight: bold\">0</span> documents to knowledge base                                                                           \n",
       "</pre>\n"
      ],
      "text/plain": [
       "\u001b[34mINFO\u001b[0m Added \u001b[1;36m0\u001b[0m documents to knowledge base                                                                           \n"
      ]
     },
     "metadata": {},
     "output_type": "display_data"
    }
   ],
   "source": [
    "agent.knowledge.load()"
   ]
  },
  {
   "cell_type": "code",
   "execution_count": null,
   "id": "44daa268",
   "metadata": {},
   "outputs": [],
   "source": [
    "agent.print_response(\"Out of all the movies in the knowledge base what are the Tamil movies in the list\", stream=True)"
   ]
  },
  {
   "cell_type": "code",
   "execution_count": null,
   "id": "18eebab7",
   "metadata": {},
   "outputs": [],
   "source": [
    "agent.cli_app()"
   ]
  },
  {
   "cell_type": "code",
   "execution_count": 6,
   "id": "a1b9cabc",
   "metadata": {},
   "outputs": [
    {
     "data": {
      "text/html": [
       "<pre style=\"white-space:pre;overflow-x:auto;line-height:normal;font-family:Menlo,'DejaVu Sans Mono',consolas,'Courier New',monospace\"><span style=\"color: #000080; text-decoration-color: #000080\">INFO</span> Search completed. Found <span style=\"color: #008080; text-decoration-color: #008080; font-weight: bold\">3</span> documents.                                                                          \n",
       "</pre>\n"
      ],
      "text/plain": [
       "\u001b[34mINFO\u001b[0m Search completed. Found \u001b[1;36m3\u001b[0m documents.                                                                          \n"
      ]
     },
     "metadata": {},
     "output_type": "display_data"
    }
   ],
   "source": [
    "response = agent.run(\"Out of all the movies in the knowledge base what are the Tamil movies in the list\")"
   ]
  },
  {
   "cell_type": "code",
   "execution_count": 8,
   "id": "a36cff47",
   "metadata": {},
   "outputs": [
    {
     "data": {
      "text/plain": [
       "'The Tamil movies in the list are:\\n\\n*   Jeans\\n*   Minsara Kanavu\\n*   Avvai Shanmughi'"
      ]
     },
     "execution_count": 8,
     "metadata": {},
     "output_type": "execute_result"
    }
   ],
   "source": [
    "response.content"
   ]
  },
  {
   "cell_type": "code",
   "execution_count": null,
   "id": "0698962a",
   "metadata": {},
   "outputs": [],
   "source": []
  }
 ],
 "metadata": {
  "kernelspec": {
   "display_name": "venv",
   "language": "python",
   "name": "python3"
  },
  "language_info": {
   "codemirror_mode": {
    "name": "ipython",
    "version": 3
   },
   "file_extension": ".py",
   "mimetype": "text/x-python",
   "name": "python",
   "nbconvert_exporter": "python",
   "pygments_lexer": "ipython3",
   "version": "3.10.7"
  }
 },
 "nbformat": 4,
 "nbformat_minor": 5
}
