{
 "cells": [
  {
   "cell_type": "code",
   "execution_count": 23,
   "id": "ea785852",
   "metadata": {},
   "outputs": [],
   "source": [
    "from langgraph.graph import START, END, Graph"
   ]
  },
  {
   "cell_type": "code",
   "execution_count": 24,
   "id": "8869b236",
   "metadata": {},
   "outputs": [],
   "source": [
    "def init(str):\n",
    "    return \"I dont know but it is \""
   ]
  },
  {
   "cell_type": "code",
   "execution_count": 25,
   "id": "9eb4602c",
   "metadata": {},
   "outputs": [],
   "source": [
    "def rainy(str):\n",
    "    return \"Its rainy Carry a coat\"\n",
    "\n",
    "def sunny(str):\n",
    "    return \"Its hot careful\""
   ]
  },
  {
   "cell_type": "code",
   "execution_count": 26,
   "id": "909ce743",
   "metadata": {},
   "outputs": [],
   "source": [
    "from typing import Literal\n",
    "def predictWeather(str) -> Literal[\"rainy\", \"sunny\"]:\n",
    "    import random\n",
    "    x = random.random()\n",
    "    if x < 0.5:\n",
    "        return \"rainy\"\n",
    "    else:\n",
    "        return \"sunny\""
   ]
  },
  {
   "cell_type": "code",
   "execution_count": 27,
   "id": "9bc4baae",
   "metadata": {},
   "outputs": [
    {
     "data": {
      "text/plain": [
       "<langgraph.graph.graph.Graph at 0x1ce110b7eb0>"
      ]
     },
     "execution_count": 27,
     "metadata": {},
     "output_type": "execute_result"
    }
   ],
   "source": [
    "graphBuilder = Graph()\n",
    "graphBuilder.add_node(\"sunny\", sunny)\n",
    "graphBuilder.add_node(\"rainy\", rainy)\n",
    "graphBuilder.add_node(\"weather\", init)\n",
    "\n",
    "graphBuilder.add_edge(START, \"weather\")\n",
    "graphBuilder.add_conditional_edges(\"weather\", predictWeather)\n",
    "graphBuilder.add_edge(\"sunny\", END)\n",
    "graphBuilder.add_edge(\"rainy\", END)\n"
   ]
  },
  {
   "cell_type": "code",
   "execution_count": 30,
   "id": "a92463b6",
   "metadata": {},
   "outputs": [
    {
     "data": {
      "text/plain": [
       "'Its hot careful'"
      ]
     },
     "execution_count": 30,
     "metadata": {},
     "output_type": "execute_result"
    }
   ],
   "source": [
    "app = graphBuilder.compile()\n",
    "app.invoke(\"hi\")"
   ]
  },
  {
   "cell_type": "code",
   "execution_count": 40,
   "id": "bde76504",
   "metadata": {},
   "outputs": [
    {
     "name": "stdout",
     "output_type": "stream",
     "text": [
      "The image is a screenshot of Neovim, a text editor, being used with a GUI frontend (likely gnvim). It shows code editing windows, file browsers, and documentation related to Neovim.\n"
     ]
    }
   ],
   "source": [
    "from google import genai\n",
    "from google.genai import types\n",
    "\n",
    "import requests\n",
    "\n",
    "image_path = \"https://static1.howtogeekimages.com/wordpress/wp-content/uploads/wm/2024/09/some-screenshots-of-neovim-with-its-logo-in-the-center.jpg\"\n",
    "image_bytes = requests.get(image_path).content\n",
    "image = types.Part.from_bytes(\n",
    "  data=image_bytes, mime_type=\"image/jpeg\"\n",
    ")\n",
    "\n",
    "import os\n",
    "\n",
    "client = genai.Client(api_key=os.getenv(\"GOOGLE_API_KEY\"))\n",
    "response = client.models.generate_content(\n",
    "    model=\"gemini-2.0-flash-exp\",\n",
    "    contents=[\"What is this image?\", image],\n",
    ")\n",
    "\n",
    "print(response.text)"
   ]
  },
  {
   "cell_type": "code",
   "execution_count": 45,
   "id": "d2a0388b",
   "metadata": {},
   "outputs": [
    {
     "name": "stdout",
     "output_type": "stream",
     "text": [
      "Okay, here's a study plan designed to help you ace your Compiler Design exam, focusing on the key areas outlined in your syllabus. This plan assumes a dedicated study period leading up to the exam.  Adjust it based on your learning style and the time you have available.\n",
      "\n",
      "**I. Overview and Time Allocation:**\n",
      "\n",
      "*   **Total Study Time:** Determine the total number of days/weeks you have to prepare. Let's assume you have **2 weeks (14 days)**, as an example.\n",
      "*   **Daily Study Time:** Estimate the number of hours you can dedicate per day. Let's assume **4-6 hours/day**.\n",
      "*   **Time Allocation by Topic:** Based on the content and perceived importance (and your comfort level), allocate time to each area:\n",
      "\n",
      "    *   **Compiler Structure & Lexical Analysis:** 2-3 days (10-18 hrs)\n",
      "    *   **Syntax Analysis:** 3 days (12-18 hrs)  (Focus on parsing methods, conflict resolution).\n",
      "    *   **Syntax-Directed Definitions & Type Checking:** 2 days (8-12 hrs)\n",
      "    *   **Run-Time System:** 1 day (4-6 hrs)\n",
      "    *   **Intermediate Code Generation:** 2 days (8-12 hrs)\n",
      "    *   **Code Generation & Instruction Selection:** 2-3 days (10-18 hrs) (Prioritize code optimization)\n",
      "\n",
      "**II. Detailed Study Plan (Example – 2 Weeks):**\n",
      "\n",
      "**Week 1: Core Concepts**\n",
      "\n",
      "*   **Day 1: Compiler Structure and Introduction to Lexical Analysis**\n",
      "    *   Review:  The Analysis-Synthesis Model, Phases of compilation and construction, Tool-based approach to compiler construction\n",
      "    *   Focus: Understand what each phase does, the inputs/outputs, and how they interact.\n",
      "    *   Do:  Work through examples of how source code is transformed through each phase.\n",
      "\n",
      "*   **Day 2: Lexical Analysis Deep Dive**\n",
      "    *   Review:  Interface with input, parser and symbol table, token, lexeme and patterns.\n",
      "    *   Focus: Understand lexical analysis, Error reporting. Regular definition, Transition diagrams\n",
      "    *   Do:  Work out examples of creating transition diagrams for simple token patterns.\n",
      "        *   Solve: Work out examples of Regular expression and convert to transition diagrams and vice versa.\n",
      "*   **Day 3: Syntax Analysis - Foundations**\n",
      "    *   Review: Review on CFGs, ambiguity, associativity, precedence\n",
      "    *   Focus: Understand Grammar concepts.\n",
      "    *   Do: Practice problems identifying ambiguities and determining associativity/precedence.\n",
      "\n",
      "*   **Day 4: Syntax Analysis - Parsing (Top-Down)**\n",
      "    *   Review: Top-down parsing, recursive descent parsing, transformation on the grammars, predictive parsing,\n",
      "    *   Focus: Understand the concepts\n",
      "    *   Solve: Work out the predictive parser table construction and perform parsing.\n",
      "\n",
      "*   **Day 5: Syntax Analysis - Parsing (Bottom-Up)**\n",
      "    *   Review: Bottom-up parsing, LR parsers (SLR, LALR, CLR).\n",
      "    *   Focus: Understand the concepts\n",
      "    *   Solve: Problems in parsing table construction.\n",
      "\n",
      "*   **Day 6: Syntax-Directed Definitions & Type Checking**\n",
      "    *   Review: Inherited and synthesized attributes, dependency graph, evaluation order, bottom-up and top-down evaluation of attributes, L- and S-attributed definitions,\n",
      "    *   Focus: Syntax-directed definitions, Circularity disambiguation and Type checking\n",
      "    *   Solve: Problems in Evaluation order.\n",
      "\n",
      "*   **Day 7:  Buffer & Consolidation**\n",
      "    * Review all topics learnt this week and consolidate the concepts\n",
      "\n",
      "**Week 2: Optimization & Implementation**\n",
      "\n",
      "*   **Day 8: Run-Time Environment**\n",
      "    *   Review: Storage organization, activation tree, activation record, stack allocation of activation records, parameter passing mechanisms.\n",
      "    *   Focus: Understand concepts related to run-time system environment.\n",
      "        *   Solve: Practice problems in drawing the activation records.\n",
      "*   **Day 9: Intermediate Code Generation**\n",
      "    *   Review: Intermediate representations, translation of declarations, assignments, control flow, boolean expressions, and procedure calls, Backpatching.\n",
      "    *   Focus: Understand Code generation techniques.\n",
      "    *   Solve: Practice problems in intermediate code generation.\n",
      "\n",
      "*   **Day 10: Code Generation and Instruction Selection Foundations**\n",
      "    *   Review: Issues, basic blocks, flow graphs\n",
      "    *   Focus: Instruction Selection concepts and Algorithms\n",
      "*   **Day 11: Code Generation Algorithms**\n",
      "    * Review: DAG representation of programs, code generation from DAGs, peephole optimization\n",
      "    * Focus: Understand each topic with examples\n",
      "    * Solve: Practice problems in code generation Algorithms\n",
      "\n",
      "*   **Day 12: Code Optimization for Machine Architectures**\n",
      "    *   Review: Sethi-Ullman algorithm and Aho-Johnson dynamic programming algorithms, code generator generators. Case study on COOL compiler.\n",
      "*   **Day 13: Consolidation & Mock Exam**\n",
      "    *   Do: Solve past exam papers.  Focus on problems that combine multiple concepts. Review all topics.\n",
      "\n",
      "*   **Day 14: Final Review & Rest**\n",
      "    *   Light review of key concepts.  Get a good night's sleep.\n",
      "\n",
      "**III.  Key Areas of Focus (based on syllabus):**\n",
      "\n",
      "*   **Grammars:** Absolutely master context-free grammars (CFGs).  Understand their structure, how to write them, and how to manipulate them.\n",
      "*   **Parsing Techniques:**  Focus on the common parsing algorithms:\n",
      "    *   **Top-Down Parsing:**  Recursive Descent (be able to write a parser for a simple grammar).  LL(1) parsing, including constructing parse tables and handling errors.\n",
      "    *   **Bottom-Up Parsing:**  SLR, LALR, and CLR parsing.  Be prepared to construct parsing tables (at least for SLR) and understand the differences between these parsers and their limitations.\n",
      "*   **Error Handling:**  Know how errors are detected in different phases and what typical recovery strategies are.\n",
      "*   **Code Optimization:** Understand common optimization techniques (constant folding, dead code elimination, common subexpression elimination, loop unrolling, etc.) and their effects.\n",
      "*   **Symbol Tables:** Understand their structure, purpose, and how they're used during compilation.\n",
      "*   **Code Generation:** Be able to generate code from intermediate representation and able to understand how target code works.\n",
      "\n",
      "**IV. Study Techniques:**\n",
      "\n",
      "*   **Active Recall:** Don't just passively read. After studying a section, try to recall the key concepts without looking at the notes.\n",
      "*   **Problem Solving:** Compiler design is best learned by doing. Work through many examples, especially for parsing and code generation.\n",
      "*   **Concept Mapping:** Create diagrams to visually represent the relationships between different compiler phases and concepts.\n",
      "*   **Practice, Practice, Practice:** Solve previous year's question papers.\n",
      "\n",
      "**V. Important Tips:**\n",
      "\n",
      "*   **Start Early:** Don't cram. This subject requires time to digest and practice.\n",
      "*   **Understand, Don't Memorize:** Focus on understanding the *why* behind the concepts, not just memorizing algorithms.\n",
      "*   **Seek Help:** Don't be afraid to ask for help from your professor, TAs, or classmates if you're struggling.\n",
      "*   **Stay Organized:** Keep your notes and practice problems organized for easy review.\n",
      "\n",
      "Good luck with your exam!\n",
      "\n"
     ]
    }
   ],
   "source": [
    "from google.genai import types\n",
    "\n",
    "with open('./Course.pdf', 'rb') as f:\n",
    "      image_bytes = f.read()\n",
    "image_bytes[:100]\n",
    "response = client.models.generate_content(\n",
    "    model='gemini-2.0-flash',\n",
    "    contents=[\n",
    "      types.Part.from_bytes(\n",
    "        data=image_bytes,\n",
    "        mime_type='application/pdf',\n",
    "      ),\n",
    "      'Give me a study plan for Compiler Design exam based on this course plan focussing on important topics'\n",
    "    ]\n",
    "  )\n",
    "\n",
    "print(response.text)"
   ]
  },
  {
   "cell_type": "code",
   "execution_count": null,
   "id": "2aa18997",
   "metadata": {},
   "outputs": [],
   "source": []
  }
 ],
 "metadata": {
  "kernelspec": {
   "display_name": "venv",
   "language": "python",
   "name": "python3"
  },
  "language_info": {
   "codemirror_mode": {
    "name": "ipython",
    "version": 3
   },
   "file_extension": ".py",
   "mimetype": "text/x-python",
   "name": "python",
   "nbconvert_exporter": "python",
   "pygments_lexer": "ipython3",
   "version": "3.10.7"
  }
 },
 "nbformat": 4,
 "nbformat_minor": 5
}
