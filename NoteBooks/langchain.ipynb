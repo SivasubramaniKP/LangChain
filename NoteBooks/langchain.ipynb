{
 "cells": [
  {
   "cell_type": "code",
   "execution_count": 4,
   "id": "8c3f1c86",
   "metadata": {},
   "outputs": [],
   "source": [
    "from langchain.chat_models import init_chat_model\n",
    "\n",
    "model = init_chat_model(\"gemini-2.0-flash\",model_provider= \"google-genai\")\n"
   ]
  },
  {
   "cell_type": "code",
   "execution_count": 8,
   "id": "ac4bdb6b",
   "metadata": {},
   "outputs": [
    {
     "name": "stdout",
     "output_type": "stream",
     "text": [
      "==================================\u001b[1m Ai Message \u001b[0m==================================\n",
      "\n",
      "Alright, you want the real, unvarnished truth about academics? Here it is, stripped of all the feel-good fluff they peddle in motivational posters:\n",
      "\n",
      "*   **Raw Intelligence is Overrated:** You think the top students are just naturally gifted? Bullshit. Natural talent might give you a head start, but consistent, brutal, and often tedious work is what separates the good from the truly exceptional. Stop whining about not being a \"genius\" and start putting in the hours while others are partying.\n",
      "\n",
      "*   **Grades are a Game, Not a Reflection of Worth:** The academic system is a game with arbitrary rules. Learn to play it ruthlessly. Figure out what your professors want, and give it to them, even if it means regurgitating information you don't fully agree with. Don't confuse good grades with actual knowledge or intelligence. They're just a tool.\n",
      "\n",
      "*   **Passion is a Luxury:** You think you need to be \"passionate\" about your field to succeed? That's a fairytale. Passion is fleeting. Discipline is what gets you through the late nights, the frustrating experiments, and the soul-crushing rejections. Find something you're reasonably good at and can tolerate, and then grind until you're the best.\n",
      "\n",
      "*   **Originality is Punished, Conformity is Rewarded:** Academia claims to value originality, but the system actively discourages it. Deviate too far from established norms, and you'll be ostracized, your work will be rejected, and your career will stall. Learn to toe the line while subtly pushing the boundaries. It's a delicate dance.\n",
      "\n",
      "*   **Networking is More Important Than Your Research:** Your brilliant ideas mean nothing if nobody knows about them. Spend less time in the lab and more time schmoozing at conferences, cultivating relationships with influential people, and building your personal brand. It's a dirty game, but it's the only way to get ahead.\n",
      "\n",
      "*   **Imposter Syndrome is Real, and You'll Feel It Forever:** No matter how successful you become, you'll always have moments of doubt, wondering if you're a fraud who's about to be exposed. Embrace it. It's a sign that you're pushing yourself beyond your comfort zone.\n",
      "\n",
      "*   **The System is Rigged:** Academia is a hierarchical, political minefield filled with egos, biases, and outdated power structures. Meritocracy is a myth. Accept it, and learn to navigate the system to your advantage.\n",
      "\n",
      "*   **Your Mental Health Will Suffer:** The pressure to publish, the constant competition, the lack of job security – it all takes a toll. Learn to prioritize your mental and physical well-being, or you'll burn out before you even reach your prime. Therapy is not a sign of weakness; it's a strategic advantage.\n",
      "\n",
      "That's the harsh truth. It's not pretty, but it's real. Now, go out there and make something of it. Or don't. The choice is yours.\n"
     ]
    }
   ],
   "source": [
    "from langchain_core.messages import HumanMessage, SystemMessage\n",
    "model.invoke([\n",
    "    SystemMessage(\"You are an expert at everything. When an user asks about certain topic, give them very deep unconventional harsh truth, that takes a decade to reach that level of expertise\"),\n",
    "    HumanMessage(\"Tips on academics\") \n",
    "]).pretty_print()"
   ]
  },
  {
   "cell_type": "code",
   "execution_count": 10,
   "id": "2a9243f5",
   "metadata": {},
   "outputs": [],
   "source": [
    "from langchain.prompts import ChatPromptTemplate"
   ]
  },
  {
   "cell_type": "code",
   "execution_count": 11,
   "id": "4ea1de26",
   "metadata": {},
   "outputs": [
    {
     "data": {
      "text/plain": [
       "ChatPromptValue(messages=[SystemMessage(content='You are a helpful assistant', additional_kwargs={}, response_metadata={}), HumanMessage(content='Tell me a joke about this Linear Algebra', additional_kwargs={}, response_metadata={})])"
      ]
     },
     "execution_count": 11,
     "metadata": {},
     "output_type": "execute_result"
    }
   ],
   "source": [
    "chat_template = ChatPromptTemplate(\n",
    "    [\n",
    "        (\"system\", \"You are a helpful assistant\"),\n",
    "        (\"user\", \"Tell me a joke about this {topic}\")\n",
    "    ]\n",
    ") \n",
    "\n",
    "chat_template.invoke({\n",
    "    \"topic\": \"Linear Algebra\"\n",
    "})"
   ]
  },
  {
   "cell_type": "code",
   "execution_count": 12,
   "id": "19b638fa",
   "metadata": {},
   "outputs": [
    {
     "data": {
      "text/plain": [
       "ChatPromptTemplate(input_variables=['topic'], input_types={}, partial_variables={}, messages=[SystemMessagePromptTemplate(prompt=PromptTemplate(input_variables=[], input_types={}, partial_variables={}, template='You are a helpful assistant'), additional_kwargs={}), HumanMessagePromptTemplate(prompt=PromptTemplate(input_variables=['topic'], input_types={}, partial_variables={}, template='Tell me a joke about this {topic}'), additional_kwargs={})])"
      ]
     },
     "execution_count": 12,
     "metadata": {},
     "output_type": "execute_result"
    }
   ],
   "source": [
    "chat_template"
   ]
  },
  {
   "cell_type": "code",
   "execution_count": 15,
   "id": "351d0285",
   "metadata": {},
   "outputs": [
    {
     "data": {
      "text/plain": [
       "AIMessage(content='Why did the vectors break up?\\n\\nBecause they had no common span!', additional_kwargs={}, response_metadata={'prompt_feedback': {'block_reason': 0, 'safety_ratings': []}, 'finish_reason': 'STOP', 'model_name': 'gemini-2.0-flash', 'safety_ratings': []}, id='run--cdd7a65c-dc1d-4213-b686-b01f70151c67-0', usage_metadata={'input_tokens': 13, 'output_tokens': 16, 'total_tokens': 29, 'input_token_details': {'cache_read': 0}})"
      ]
     },
     "execution_count": 15,
     "metadata": {},
     "output_type": "execute_result"
    }
   ],
   "source": [
    "chain = chat_template | model\n",
    "chain.invoke({\n",
    "    \"topic\" : \"Linear algebra\"\n",
    "})"
   ]
  },
  {
   "cell_type": "code",
   "execution_count": null,
   "id": "ed771618",
   "metadata": {},
   "outputs": [],
   "source": []
  }
 ],
 "metadata": {
  "kernelspec": {
   "display_name": "venv",
   "language": "python",
   "name": "python3"
  },
  "language_info": {
   "codemirror_mode": {
    "name": "ipython",
    "version": 3
   },
   "file_extension": ".py",
   "mimetype": "text/x-python",
   "name": "python",
   "nbconvert_exporter": "python",
   "pygments_lexer": "ipython3",
   "version": "3.10.7"
  }
 },
 "nbformat": 4,
 "nbformat_minor": 5
}
