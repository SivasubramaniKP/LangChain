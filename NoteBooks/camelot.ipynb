{
 "cells": [
  {
   "cell_type": "code",
   "execution_count": 7,
   "id": "5d291b12",
   "metadata": {},
   "outputs": [
    {
     "name": "stderr",
     "output_type": "stream",
     "text": [
      "d:\\INtern\\LangChain\\venv\\lib\\site-packages\\pypdf\\_crypt_providers\\_cryptography.py:32: CryptographyDeprecationWarning: ARC4 has been moved to cryptography.hazmat.decrepit.ciphers.algorithms.ARC4 and will be removed from cryptography.hazmat.primitives.ciphers.algorithms in 48.0.0.\n",
      "  from cryptography.hazmat.primitives.ciphers.algorithms import AES, ARC4\n"
     ]
    }
   ],
   "source": [
    "from ctypes.util import find_library\n",
    "import ctypes\n",
    "import camelot"
   ]
  },
  {
   "cell_type": "code",
   "execution_count": 8,
   "id": "992da096",
   "metadata": {},
   "outputs": [],
   "source": [
    "find_library(\"gs\")"
   ]
  },
  {
   "cell_type": "code",
   "execution_count": 9,
   "id": "6ad4d7fe",
   "metadata": {},
   "outputs": [
    {
     "data": {
      "text/plain": [
       "'C:\\\\Program Files\\\\gs\\\\gs10.05.1\\\\bin\\\\gsdll64.dll'"
      ]
     },
     "execution_count": 9,
     "metadata": {},
     "output_type": "execute_result"
    }
   ],
   "source": [
    "find_library(\"\".join((\"gsdll\", str(ctypes.sizeof(ctypes.c_voidp) * 8), \".dll\")))"
   ]
  },
  {
   "cell_type": "code",
   "execution_count": 36,
   "id": "32177332",
   "metadata": {},
   "outputs": [],
   "source": [
    "tables = camelot.read_pdf(\"../PDFFiles/multiheader2.pdf\", pages='1, 2, 3', flavor=\"stream\" ,edge_tol = 500)"
   ]
  },
  {
   "cell_type": "code",
   "execution_count": 39,
   "id": "ebd3d95f",
   "metadata": {},
   "outputs": [
    {
     "data": {
      "application/vnd.microsoft.datawrangler.viewer.v0+json": {
       "columns": [
        {
         "name": "index",
         "rawType": "int64",
         "type": "integer"
        },
        {
         "name": "0",
         "rawType": "object",
         "type": "string"
        },
        {
         "name": "1",
         "rawType": "object",
         "type": "string"
        },
        {
         "name": "2",
         "rawType": "object",
         "type": "string"
        },
        {
         "name": "3",
         "rawType": "object",
         "type": "string"
        },
        {
         "name": "4",
         "rawType": "object",
         "type": "string"
        },
        {
         "name": "5",
         "rawType": "object",
         "type": "string"
        },
        {
         "name": "6",
         "rawType": "object",
         "type": "string"
        },
        {
         "name": "7",
         "rawType": "object",
         "type": "string"
        },
        {
         "name": "8",
         "rawType": "object",
         "type": "string"
        },
        {
         "name": "9",
         "rawType": "object",
         "type": "string"
        },
        {
         "name": "10",
         "rawType": "object",
         "type": "string"
        },
        {
         "name": "11",
         "rawType": "object",
         "type": "string"
        },
        {
         "name": "12",
         "rawType": "object",
         "type": "string"
        },
        {
         "name": "13",
         "rawType": "object",
         "type": "string"
        },
        {
         "name": "14",
         "rawType": "object",
         "type": "string"
        },
        {
         "name": "15",
         "rawType": "object",
         "type": "string"
        },
        {
         "name": "16",
         "rawType": "object",
         "type": "string"
        },
        {
         "name": "17",
         "rawType": "object",
         "type": "string"
        },
        {
         "name": "18",
         "rawType": "object",
         "type": "string"
        }
       ],
       "ref": "9936cb49-b487-4ff2-a22e-c8e9d410eaf2",
       "rows": [
        [
         "0",
         "",
         "",
         "",
         "2019",
         "",
         "",
         "",
         "",
         "",
         "2020",
         "",
         "",
         "",
         "",
         "",
         "2021",
         "",
         "",
         ""
        ],
        [
         "1",
         "",
         "Applied",
         "",
         "Admitted",
         "",
         "Enrolled",
         "",
         "Applied",
         "",
         "Admitted",
         "",
         "Enrolled",
         "",
         "Applied",
         "",
         "Admitted",
         "",
         "Enrolled",
         ""
        ],
        [
         "2",
         "Application",
         "",
         "",
         "",
         "",
         "",
         "",
         "",
         "",
         "",
         "",
         "",
         "",
         "",
         "",
         "",
         "",
         "",
         ""
        ],
        [
         "3",
         "",
         "Count",
         "%",
         "Count",
         "%",
         "Count",
         "%",
         "Count",
         "%",
         "Count",
         "%",
         "Count",
         "%",
         "Count",
         "%",
         "Count",
         "%",
         "Count",
         "%"
        ],
        [
         "4",
         "Origination",
         "",
         "",
         "",
         "",
         "",
         "",
         "",
         "",
         "",
         "",
         "",
         "",
         "",
         "",
         "",
         "",
         "",
         ""
        ],
        [
         "5",
         "Null",
         "86",
         "11%",
         "62",
         "15%",
         "39",
         "16%",
         "100",
         "12%",
         "88",
         "17%",
         "63",
         "21%",
         "196",
         "16%",
         "108",
         "20%",
         "59",
         "19%"
        ],
        [
         "6",
         "NCMentor",
         "514",
         "66%",
         "254",
         "63%",
         "150",
         "60%",
         "335",
         "41%",
         "196",
         "38%",
         "111",
         "37%",
         "342",
         "29%",
         "124",
         "23%",
         "68",
         "22%"
        ],
        [
         "7",
         "Web Event",
         "175",
         "23%",
         "85",
         "21%",
         "60",
         "24%",
         "379",
         "46%",
         "228",
         "44%",
         "129",
         "42%",
         "120",
         "10%",
         "51",
         "10%",
         "35",
         "11%"
        ],
        [
         "8",
         "Web",
         "-",
         "0%",
         "",
         "0%",
         "",
         "0%",
         "3",
         "0%",
         "1",
         "0%",
         "1",
         "0%",
         "426",
         "36%",
         "232",
         "44%",
         "152",
         "48%"
        ],
        [
         "9",
         "Manual",
         "",
         "0%",
         "",
         "0%",
         "",
         "0%",
         "1",
         "0%",
         "1",
         "0%",
         "-",
         "0%",
         "",
         "0%",
         "",
         "0%",
         "",
         "0%"
        ],
        [
         "10",
         "CBCA",
         "",
         "0%",
         "",
         "0%",
         "",
         "0%",
         "",
         "0%",
         "",
         "0%",
         "",
         "0%",
         "115",
         "10%",
         "14",
         "3%",
         "2",
         "1%"
        ],
        [
         "11",
         "Paper",
         "",
         "0%",
         "",
         "0%",
         "",
         "0%",
         "",
         "0%",
         "",
         "0%",
         "",
         "0%",
         "",
         "0%",
         "",
         "0%",
         "",
         "0%"
        ],
        [
         "12",
         "Total Count",
         "775",
         "100%",
         "401",
         "100%",
         "249",
         "100%",
         "818",
         "100%",
         "514",
         "100%",
         "304",
         "100%",
         "1,199",
         "100%",
         "529",
         "100%",
         "316",
         "100%"
        ]
       ],
       "shape": {
        "columns": 19,
        "rows": 13
       }
      },
      "text/html": [
       "<div>\n",
       "<style scoped>\n",
       "    .dataframe tbody tr th:only-of-type {\n",
       "        vertical-align: middle;\n",
       "    }\n",
       "\n",
       "    .dataframe tbody tr th {\n",
       "        vertical-align: top;\n",
       "    }\n",
       "\n",
       "    .dataframe thead th {\n",
       "        text-align: right;\n",
       "    }\n",
       "</style>\n",
       "<table border=\"1\" class=\"dataframe\">\n",
       "  <thead>\n",
       "    <tr style=\"text-align: right;\">\n",
       "      <th></th>\n",
       "      <th>0</th>\n",
       "      <th>1</th>\n",
       "      <th>2</th>\n",
       "      <th>3</th>\n",
       "      <th>4</th>\n",
       "      <th>5</th>\n",
       "      <th>6</th>\n",
       "      <th>7</th>\n",
       "      <th>8</th>\n",
       "      <th>9</th>\n",
       "      <th>10</th>\n",
       "      <th>11</th>\n",
       "      <th>12</th>\n",
       "      <th>13</th>\n",
       "      <th>14</th>\n",
       "      <th>15</th>\n",
       "      <th>16</th>\n",
       "      <th>17</th>\n",
       "      <th>18</th>\n",
       "    </tr>\n",
       "  </thead>\n",
       "  <tbody>\n",
       "    <tr>\n",
       "      <th>0</th>\n",
       "      <td></td>\n",
       "      <td></td>\n",
       "      <td></td>\n",
       "      <td>2019</td>\n",
       "      <td></td>\n",
       "      <td></td>\n",
       "      <td></td>\n",
       "      <td></td>\n",
       "      <td></td>\n",
       "      <td>2020</td>\n",
       "      <td></td>\n",
       "      <td></td>\n",
       "      <td></td>\n",
       "      <td></td>\n",
       "      <td></td>\n",
       "      <td>2021</td>\n",
       "      <td></td>\n",
       "      <td></td>\n",
       "      <td></td>\n",
       "    </tr>\n",
       "    <tr>\n",
       "      <th>1</th>\n",
       "      <td></td>\n",
       "      <td>Applied</td>\n",
       "      <td></td>\n",
       "      <td>Admitted</td>\n",
       "      <td></td>\n",
       "      <td>Enrolled</td>\n",
       "      <td></td>\n",
       "      <td>Applied</td>\n",
       "      <td></td>\n",
       "      <td>Admitted</td>\n",
       "      <td></td>\n",
       "      <td>Enrolled</td>\n",
       "      <td></td>\n",
       "      <td>Applied</td>\n",
       "      <td></td>\n",
       "      <td>Admitted</td>\n",
       "      <td></td>\n",
       "      <td>Enrolled</td>\n",
       "      <td></td>\n",
       "    </tr>\n",
       "    <tr>\n",
       "      <th>2</th>\n",
       "      <td>Application</td>\n",
       "      <td></td>\n",
       "      <td></td>\n",
       "      <td></td>\n",
       "      <td></td>\n",
       "      <td></td>\n",
       "      <td></td>\n",
       "      <td></td>\n",
       "      <td></td>\n",
       "      <td></td>\n",
       "      <td></td>\n",
       "      <td></td>\n",
       "      <td></td>\n",
       "      <td></td>\n",
       "      <td></td>\n",
       "      <td></td>\n",
       "      <td></td>\n",
       "      <td></td>\n",
       "      <td></td>\n",
       "    </tr>\n",
       "    <tr>\n",
       "      <th>3</th>\n",
       "      <td></td>\n",
       "      <td>Count</td>\n",
       "      <td>%</td>\n",
       "      <td>Count</td>\n",
       "      <td>%</td>\n",
       "      <td>Count</td>\n",
       "      <td>%</td>\n",
       "      <td>Count</td>\n",
       "      <td>%</td>\n",
       "      <td>Count</td>\n",
       "      <td>%</td>\n",
       "      <td>Count</td>\n",
       "      <td>%</td>\n",
       "      <td>Count</td>\n",
       "      <td>%</td>\n",
       "      <td>Count</td>\n",
       "      <td>%</td>\n",
       "      <td>Count</td>\n",
       "      <td>%</td>\n",
       "    </tr>\n",
       "    <tr>\n",
       "      <th>4</th>\n",
       "      <td>Origination</td>\n",
       "      <td></td>\n",
       "      <td></td>\n",
       "      <td></td>\n",
       "      <td></td>\n",
       "      <td></td>\n",
       "      <td></td>\n",
       "      <td></td>\n",
       "      <td></td>\n",
       "      <td></td>\n",
       "      <td></td>\n",
       "      <td></td>\n",
       "      <td></td>\n",
       "      <td></td>\n",
       "      <td></td>\n",
       "      <td></td>\n",
       "      <td></td>\n",
       "      <td></td>\n",
       "      <td></td>\n",
       "    </tr>\n",
       "    <tr>\n",
       "      <th>5</th>\n",
       "      <td>Null</td>\n",
       "      <td>86</td>\n",
       "      <td>11%</td>\n",
       "      <td>62</td>\n",
       "      <td>15%</td>\n",
       "      <td>39</td>\n",
       "      <td>16%</td>\n",
       "      <td>100</td>\n",
       "      <td>12%</td>\n",
       "      <td>88</td>\n",
       "      <td>17%</td>\n",
       "      <td>63</td>\n",
       "      <td>21%</td>\n",
       "      <td>196</td>\n",
       "      <td>16%</td>\n",
       "      <td>108</td>\n",
       "      <td>20%</td>\n",
       "      <td>59</td>\n",
       "      <td>19%</td>\n",
       "    </tr>\n",
       "    <tr>\n",
       "      <th>6</th>\n",
       "      <td>NCMentor</td>\n",
       "      <td>514</td>\n",
       "      <td>66%</td>\n",
       "      <td>254</td>\n",
       "      <td>63%</td>\n",
       "      <td>150</td>\n",
       "      <td>60%</td>\n",
       "      <td>335</td>\n",
       "      <td>41%</td>\n",
       "      <td>196</td>\n",
       "      <td>38%</td>\n",
       "      <td>111</td>\n",
       "      <td>37%</td>\n",
       "      <td>342</td>\n",
       "      <td>29%</td>\n",
       "      <td>124</td>\n",
       "      <td>23%</td>\n",
       "      <td>68</td>\n",
       "      <td>22%</td>\n",
       "    </tr>\n",
       "    <tr>\n",
       "      <th>7</th>\n",
       "      <td>Web Event</td>\n",
       "      <td>175</td>\n",
       "      <td>23%</td>\n",
       "      <td>85</td>\n",
       "      <td>21%</td>\n",
       "      <td>60</td>\n",
       "      <td>24%</td>\n",
       "      <td>379</td>\n",
       "      <td>46%</td>\n",
       "      <td>228</td>\n",
       "      <td>44%</td>\n",
       "      <td>129</td>\n",
       "      <td>42%</td>\n",
       "      <td>120</td>\n",
       "      <td>10%</td>\n",
       "      <td>51</td>\n",
       "      <td>10%</td>\n",
       "      <td>35</td>\n",
       "      <td>11%</td>\n",
       "    </tr>\n",
       "    <tr>\n",
       "      <th>8</th>\n",
       "      <td>Web</td>\n",
       "      <td>-</td>\n",
       "      <td>0%</td>\n",
       "      <td></td>\n",
       "      <td>0%</td>\n",
       "      <td></td>\n",
       "      <td>0%</td>\n",
       "      <td>3</td>\n",
       "      <td>0%</td>\n",
       "      <td>1</td>\n",
       "      <td>0%</td>\n",
       "      <td>1</td>\n",
       "      <td>0%</td>\n",
       "      <td>426</td>\n",
       "      <td>36%</td>\n",
       "      <td>232</td>\n",
       "      <td>44%</td>\n",
       "      <td>152</td>\n",
       "      <td>48%</td>\n",
       "    </tr>\n",
       "    <tr>\n",
       "      <th>9</th>\n",
       "      <td>Manual</td>\n",
       "      <td></td>\n",
       "      <td>0%</td>\n",
       "      <td></td>\n",
       "      <td>0%</td>\n",
       "      <td></td>\n",
       "      <td>0%</td>\n",
       "      <td>1</td>\n",
       "      <td>0%</td>\n",
       "      <td>1</td>\n",
       "      <td>0%</td>\n",
       "      <td>-</td>\n",
       "      <td>0%</td>\n",
       "      <td></td>\n",
       "      <td>0%</td>\n",
       "      <td></td>\n",
       "      <td>0%</td>\n",
       "      <td></td>\n",
       "      <td>0%</td>\n",
       "    </tr>\n",
       "    <tr>\n",
       "      <th>10</th>\n",
       "      <td>CBCA</td>\n",
       "      <td></td>\n",
       "      <td>0%</td>\n",
       "      <td></td>\n",
       "      <td>0%</td>\n",
       "      <td></td>\n",
       "      <td>0%</td>\n",
       "      <td></td>\n",
       "      <td>0%</td>\n",
       "      <td></td>\n",
       "      <td>0%</td>\n",
       "      <td></td>\n",
       "      <td>0%</td>\n",
       "      <td>115</td>\n",
       "      <td>10%</td>\n",
       "      <td>14</td>\n",
       "      <td>3%</td>\n",
       "      <td>2</td>\n",
       "      <td>1%</td>\n",
       "    </tr>\n",
       "    <tr>\n",
       "      <th>11</th>\n",
       "      <td>Paper</td>\n",
       "      <td></td>\n",
       "      <td>0%</td>\n",
       "      <td></td>\n",
       "      <td>0%</td>\n",
       "      <td></td>\n",
       "      <td>0%</td>\n",
       "      <td></td>\n",
       "      <td>0%</td>\n",
       "      <td></td>\n",
       "      <td>0%</td>\n",
       "      <td></td>\n",
       "      <td>0%</td>\n",
       "      <td></td>\n",
       "      <td>0%</td>\n",
       "      <td></td>\n",
       "      <td>0%</td>\n",
       "      <td></td>\n",
       "      <td>0%</td>\n",
       "    </tr>\n",
       "    <tr>\n",
       "      <th>12</th>\n",
       "      <td>Total Count</td>\n",
       "      <td>775</td>\n",
       "      <td>100%</td>\n",
       "      <td>401</td>\n",
       "      <td>100%</td>\n",
       "      <td>249</td>\n",
       "      <td>100%</td>\n",
       "      <td>818</td>\n",
       "      <td>100%</td>\n",
       "      <td>514</td>\n",
       "      <td>100%</td>\n",
       "      <td>304</td>\n",
       "      <td>100%</td>\n",
       "      <td>1,199</td>\n",
       "      <td>100%</td>\n",
       "      <td>529</td>\n",
       "      <td>100%</td>\n",
       "      <td>316</td>\n",
       "      <td>100%</td>\n",
       "    </tr>\n",
       "  </tbody>\n",
       "</table>\n",
       "</div>"
      ],
      "text/plain": [
       "             0        1     2         3     4         5     6        7     8   \\\n",
       "0                                   2019                                        \n",
       "1                Applied        Admitted        Enrolled        Applied         \n",
       "2   Application                                                                 \n",
       "3                  Count     %     Count     %     Count     %    Count     %   \n",
       "4   Origination                                                                 \n",
       "5          Null       86   11%        62   15%        39   16%      100   12%   \n",
       "6      NCMentor      514   66%       254   63%       150   60%      335   41%   \n",
       "7     Web Event      175   23%        85   21%        60   24%      379   46%   \n",
       "8           Web        -    0%              0%              0%        3    0%   \n",
       "9        Manual             0%              0%              0%        1    0%   \n",
       "10         CBCA             0%              0%              0%             0%   \n",
       "11        Paper             0%              0%              0%             0%   \n",
       "12  Total Count      775  100%       401  100%       249  100%      818  100%   \n",
       "\n",
       "          9     10        11    12       13    14        15    16        17  \\\n",
       "0       2020                                           2021                   \n",
       "1   Admitted        Enrolled        Applied        Admitted        Enrolled   \n",
       "2                                                                             \n",
       "3      Count     %     Count     %    Count     %     Count     %     Count   \n",
       "4                                                                             \n",
       "5         88   17%        63   21%      196   16%       108   20%        59   \n",
       "6        196   38%       111   37%      342   29%       124   23%        68   \n",
       "7        228   44%       129   42%      120   10%        51   10%        35   \n",
       "8          1    0%         1    0%      426   36%       232   44%       152   \n",
       "9          1    0%         -    0%             0%              0%             \n",
       "10              0%              0%      115   10%        14    3%         2   \n",
       "11              0%              0%             0%              0%             \n",
       "12       514  100%       304  100%    1,199  100%       529  100%       316   \n",
       "\n",
       "      18  \n",
       "0         \n",
       "1         \n",
       "2         \n",
       "3      %  \n",
       "4         \n",
       "5    19%  \n",
       "6    22%  \n",
       "7    11%  \n",
       "8    48%  \n",
       "9     0%  \n",
       "10    1%  \n",
       "11    0%  \n",
       "12  100%  "
      ]
     },
     "execution_count": 39,
     "metadata": {},
     "output_type": "execute_result"
    }
   ],
   "source": [
    "tables[1].df"
   ]
  },
  {
   "cell_type": "code",
   "execution_count": 37,
   "id": "186a7443",
   "metadata": {},
   "outputs": [
    {
     "name": "stderr",
     "output_type": "stream",
     "text": [
      "C:\\Users\\Sony\\AppData\\Local\\Temp\\ipykernel_7508\\311955129.py:1: UserWarning: FigureCanvasAgg is non-interactive, and thus cannot be shown\n",
      "  camelot.plot(tables[0], kind='grid').show()\n"
     ]
    },
    {
     "data": {
      "image/png": "[encoded data removed]",
      "text/plain": [
       "<Figure size 640x480 with 1 Axes>"
      ]
     },
     "metadata": {},
     "output_type": "display_data"
    }
   ],
   "source": [
    "camelot.plot(tables[0], kind='grid').show()"
   ]
  },
  {
   "cell_type": "code",
   "execution_count": 40,
   "id": "4ce05003",
   "metadata": {},
   "outputs": [],
   "source": [
    "tables.export('foo.csv', f='csv', compress=True)"
   ]
  },
  {
   "cell_type": "code",
   "execution_count": 76,
   "id": "b5fa5296",
   "metadata": {},
   "outputs": [],
   "source": [
    "from agno.agent import Agent, AgentKnowledge\n",
    "from agno.knowledge.csv import CSVKnowledgeBase\n",
    "from agno.vectordb.lancedb import LanceDb\n",
    "from agno.vectordb.search import SearchType\n",
    "from agno.embedder.google import GeminiEmbedder\n",
    "from agno.models.google import Gemini\n",
    "vector_db = LanceDb(\n",
    "    table_name=\"Enrollmentdata\",\n",
    "    uri=\"/tmp/lancedb\",\n",
    "    search_type=SearchType.hybrid,\n",
    "    embedder=GeminiEmbedder(),\n",
    ")"
   ]
  },
  {
   "cell_type": "code",
   "execution_count": 77,
   "id": "bf87c3fc",
   "metadata": {},
   "outputs": [],
   "source": [
    "knowledge_base = CSVKnowledgeBase(\n",
    "    path=\"../CSV/mult1.csv\",\n",
    "    vector_db= vector_db,\n",
    "    num_documents=5\n",
    ")"
   ]
  },
  {
   "cell_type": "code",
   "execution_count": 81,
   "id": "58d01b80",
   "metadata": {},
   "outputs": [],
   "source": [
    "agent = Agent(\n",
    "    knowledge=knowledge_base,\n",
    "    stream=True,\n",
    "    model=Gemini(\n",
    "        id = \"gemini-2.0-flash\"\n",
    "    ),\n",
    "    instructions=[\n",
    "        \"If the user ask any question about application search the knowledge base\"\n",
    "    ]\n",
    "    \n",
    ")"
   ]
  },
  {
   "cell_type": "code",
   "execution_count": 82,
   "id": "776d3598",
   "metadata": {},
   "outputs": [
    {
     "data": {
      "text/html": [
       "<pre style=\"white-space:pre;overflow-x:auto;line-height:normal;font-family:Menlo,'DejaVu Sans Mono',consolas,'Courier New',monospace\"><span style=\"color: #000080; text-decoration-color: #000080\">INFO</span> Loading knowledge base                                                                                        \n",
       "</pre>\n"
      ],
      "text/plain": [
       "\u001b[34mINFO\u001b[0m Loading knowledge base                                                                                        \n"
      ]
     },
     "metadata": {},
     "output_type": "display_data"
    },
    {
     "data": {
      "text/html": [
       "<pre style=\"white-space:pre;overflow-x:auto;line-height:normal;font-family:Menlo,'DejaVu Sans Mono',consolas,'Courier New',monospace\"><span style=\"color: #000080; text-decoration-color: #000080\">INFO</span> Reading: ..\\CSV\\mult1.csv                                                                                     \n",
       "</pre>\n"
      ],
      "text/plain": [
       "\u001b[34mINFO\u001b[0m Reading: ..\\CSV\\mult1.csv                                                                                     \n"
      ]
     },
     "metadata": {},
     "output_type": "display_data"
    },
    {
     "data": {
      "text/html": [
       "<pre style=\"white-space:pre;overflow-x:auto;line-height:normal;font-family:Menlo,'DejaVu Sans Mono',consolas,'Courier New',monospace\"><span style=\"color: #000080; text-decoration-color: #000080\">INFO</span> Skipped <span style=\"color: #008080; text-decoration-color: #008080; font-weight: bold\">1</span> existing/duplicate documents.                                                                       \n",
       "</pre>\n"
      ],
      "text/plain": [
       "\u001b[34mINFO\u001b[0m Skipped \u001b[1;36m1\u001b[0m existing/duplicate documents.                                                                       \n"
      ]
     },
     "metadata": {},
     "output_type": "display_data"
    },
    {
     "data": {
      "text/html": [
       "<pre style=\"white-space:pre;overflow-x:auto;line-height:normal;font-family:Menlo,'DejaVu Sans Mono',consolas,'Courier New',monospace\"><span style=\"color: #000080; text-decoration-color: #000080\">INFO</span> Added <span style=\"color: #008080; text-decoration-color: #008080; font-weight: bold\">0</span> documents to knowledge base                                                                           \n",
       "</pre>\n"
      ],
      "text/plain": [
       "\u001b[34mINFO\u001b[0m Added \u001b[1;36m0\u001b[0m documents to knowledge base                                                                           \n"
      ]
     },
     "metadata": {},
     "output_type": "display_data"
    }
   ],
   "source": [
    "agent.knowledge.load(recreate=False)"
   ]
  },
  {
   "cell_type": "code",
   "execution_count": 84,
   "id": "07072e79",
   "metadata": {},
   "outputs": [
    {
     "data": {
      "text/html": [
       "<pre style=\"white-space:pre;overflow-x:auto;line-height:normal;font-family:Menlo,'DejaVu Sans Mono',consolas,'Courier New',monospace\"><span style=\"font-weight: bold\"> 😎 User </span>: </pre>\n"
      ],
      "text/plain": [
       "\u001b[1m 😎 User \u001b[0m: "
      ]
     },
     "metadata": {},
     "output_type": "display_data"
    },
    {
     "data": {
      "application/vnd.jupyter.widget-view+json": {
       "model_id": "56caec380d104f0bb0a9360b78b0b163",
       "version_major": 2,
       "version_minor": 0
      },
      "text/plain": [
       "Output()"
      ]
     },
     "metadata": {},
     "output_type": "display_data"
    },
    {
     "data": {
      "text/html": [
       "<pre style=\"white-space:pre;overflow-x:auto;line-height:normal;font-family:Menlo,'DejaVu Sans Mono',consolas,'Courier New',monospace\"><span style=\"color: #000080; text-decoration-color: #000080\">INFO</span> Found <span style=\"color: #008080; text-decoration-color: #008080; font-weight: bold\">1</span> documents                                                                                             \n",
       "</pre>\n"
      ],
      "text/plain": [
       "\u001b[34mINFO\u001b[0m Found \u001b[1;36m1\u001b[0m documents                                                                                             \n"
      ]
     },
     "metadata": {},
     "output_type": "display_data"
    },
    {
     "data": {
      "text/html": [
       "<pre style=\"white-space:pre;overflow-x:auto;line-height:normal;font-family:Menlo,'DejaVu Sans Mono',consolas,'Courier New',monospace\"></pre>\n"
      ],
      "text/plain": []
     },
     "metadata": {},
     "output_type": "display_data"
    },
    {
     "data": {
      "text/html": [
       "<pre style=\"white-space:pre;overflow-x:auto;line-height:normal;font-family:Menlo,'DejaVu Sans Mono',consolas,'Courier New',monospace\"><span style=\"font-weight: bold\"> 😎 User </span>: </pre>\n"
      ],
      "text/plain": [
       "\u001b[1m 😎 User \u001b[0m: "
      ]
     },
     "metadata": {},
     "output_type": "display_data"
    },
    {
     "data": {
      "application/vnd.jupyter.widget-view+json": {
       "model_id": "ee12270a4ac843728ba9be45cf15564d",
       "version_major": 2,
       "version_minor": 0
      },
      "text/plain": [
       "Output()"
      ]
     },
     "metadata": {},
     "output_type": "display_data"
    },
    {
     "data": {
      "text/html": [
       "<pre style=\"white-space:pre;overflow-x:auto;line-height:normal;font-family:Menlo,'DejaVu Sans Mono',consolas,'Courier New',monospace\"><span style=\"color: #000080; text-decoration-color: #000080\">INFO</span> Found <span style=\"color: #008080; text-decoration-color: #008080; font-weight: bold\">1</span> documents                                                                                             \n",
       "</pre>\n"
      ],
      "text/plain": [
       "\u001b[34mINFO\u001b[0m Found \u001b[1;36m1\u001b[0m documents                                                                                             \n"
      ]
     },
     "metadata": {},
     "output_type": "display_data"
    },
    {
     "data": {
      "text/html": [
       "<pre style=\"white-space:pre;overflow-x:auto;line-height:normal;font-family:Menlo,'DejaVu Sans Mono',consolas,'Courier New',monospace\"></pre>\n"
      ],
      "text/plain": []
     },
     "metadata": {},
     "output_type": "display_data"
    },
    {
     "data": {
      "text/html": [
       "<pre style=\"white-space:pre;overflow-x:auto;line-height:normal;font-family:Menlo,'DejaVu Sans Mono',consolas,'Courier New',monospace\"><span style=\"font-weight: bold\"> 😎 User </span>: </pre>\n"
      ],
      "text/plain": [
       "\u001b[1m 😎 User \u001b[0m: "
      ]
     },
     "metadata": {},
     "output_type": "display_data"
    },
    {
     "data": {
      "application/vnd.jupyter.widget-view+json": {
       "model_id": "547627b240eb4bdab3ae597bb246879a",
       "version_major": 2,
       "version_minor": 0
      },
      "text/plain": [
       "Output()"
      ]
     },
     "metadata": {},
     "output_type": "display_data"
    },
    {
     "data": {
      "text/html": [
       "<pre style=\"white-space:pre;overflow-x:auto;line-height:normal;font-family:Menlo,'DejaVu Sans Mono',consolas,'Courier New',monospace\"></pre>\n"
      ],
      "text/plain": []
     },
     "metadata": {},
     "output_type": "display_data"
    },
    {
     "data": {
      "text/html": [
       "<pre style=\"white-space:pre;overflow-x:auto;line-height:normal;font-family:Menlo,'DejaVu Sans Mono',consolas,'Courier New',monospace\"><span style=\"font-weight: bold\"> 😎 User </span>: </pre>\n"
      ],
      "text/plain": [
       "\u001b[1m 😎 User \u001b[0m: "
      ]
     },
     "metadata": {},
     "output_type": "display_data"
    }
   ],
   "source": [
    "agent.cli_app(stream=True)"
   ]
  },
  {
   "cell_type": "code",
   "execution_count": null,
   "id": "d6b0d99e",
   "metadata": {},
   "outputs": [],
   "source": []
  },
  {
   "cell_type": "code",
   "execution_count": null,
   "id": "eb00ba30",
   "metadata": {},
   "outputs": [],
   "source": [
    "perceptionLm LayoutLMV3 "
   ]
  }
 ],
 "metadata": {
  "kernelspec": {
   "display_name": "venv",
   "language": "python",
   "name": "python3"
  },
  "language_info": {
   "codemirror_mode": {
    "name": "ipython",
    "version": 3
   },
   "file_extension": ".py",
   "mimetype": "text/x-python",
   "name": "python",
   "nbconvert_exporter": "python",
   "pygments_lexer": "ipython3",
   "version": "3.10.7"
  }
 },
 "nbformat": 4,
 "nbformat_minor": 5
}
