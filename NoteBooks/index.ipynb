{
 "cells": [
  {
   "cell_type": "code",
   "execution_count": 3,
   "id": "72b89a50",
   "metadata": {},
   "outputs": [],
   "source": [
    "import os\n",
    "from langchain.chat_models import init_chat_model\n",
    "\n",
    "model = init_chat_model(\"gemini-2.0-flash\", model_provider=\"google_genai\")"
   ]
  },
  {
   "cell_type": "code",
   "execution_count": 4,
   "id": "36e59362",
   "metadata": {},
   "outputs": [
    {
     "data": {
      "text/plain": [
       "\"Okay, Sai! It's nice to meet you. How can I help you today?\""
      ]
     },
     "execution_count": 4,
     "metadata": {},
     "output_type": "execute_result"
    }
   ],
   "source": [
    "from langchain_core.messages import HumanMessage\n",
    "\n",
    "model.invoke([HumanMessage(content=\"My Name is Sai\")]).content"
   ]
  },
  {
   "cell_type": "code",
   "execution_count": 5,
   "id": "1d33189a",
   "metadata": {},
   "outputs": [
    {
     "data": {
      "text/plain": [
       "AIMessage(content=\"As a large language model, I have no memory of past conversations and I don't know your name. You haven't told me!\", additional_kwargs={}, response_metadata={'prompt_feedback': {'block_reason': 0, 'safety_ratings': []}, 'finish_reason': 'STOP', 'model_name': 'gemini-2.0-flash', 'safety_ratings': []}, id='run--7287446e-0d98-432b-a82f-169061b95084-0', usage_metadata={'input_tokens': 4, 'output_tokens': 30, 'total_tokens': 34, 'input_token_details': {'cache_read': 0}})"
      ]
     },
     "execution_count": 5,
     "metadata": {},
     "output_type": "execute_result"
    }
   ],
   "source": [
    "model.invoke([HumanMessage(\"What is my name\")])"
   ]
  },
  {
   "cell_type": "code",
   "execution_count": 6,
   "id": "a96ac2d9",
   "metadata": {},
   "outputs": [],
   "source": [
    "from langchain_core.prompts import ChatPromptTemplate\n",
    "from langchain_core.prompts import MessagesPlaceholder\n",
    "\n",
    "prompt_template = ChatPromptTemplate.from_messages([\n",
    "    (\n",
    "        \"system\", \"Explain everything in Fortnite Terms\"\n",
    "\n",
    "    ),\n",
    "    MessagesPlaceholder(\"messages\")\n",
    "])"
   ]
  },
  {
   "cell_type": "code",
   "execution_count": 7,
   "id": "e53120e1",
   "metadata": {},
   "outputs": [],
   "source": [
    "from langgraph.checkpoint.memory import MemorySaver\n",
    "from langgraph.graph import START, MessagesState, StateGraph\n",
    "\n",
    "workFlow = StateGraph(state_schema=MessagesState)\n"
   ]
  },
  {
   "cell_type": "code",
   "execution_count": 8,
   "id": "56984e23",
   "metadata": {},
   "outputs": [],
   "source": [
    "\n",
    "from langchain_core.messages import SystemMessage, trim_messages\n",
    "trimmer = trim_messages(\n",
    "    max_tokens=65,\n",
    "    strategy=\"last\",\n",
    "    token_counter=model,\n",
    "    include_system=True,\n",
    "    allow_partial=False,\n",
    "    start_on=\"human\",\n",
    ")"
   ]
  },
  {
   "cell_type": "code",
   "execution_count": 9,
   "id": "e55d3c82",
   "metadata": {},
   "outputs": [],
   "source": [
    "def call_model(state: MessagesState):\n",
    "    trimmed_messages = trimmer.invoke(state[\"messages\"])\n",
    "    prompt = prompt_template.invoke({\n",
    "        \"messages\" : trimmed_messages\n",
    "    })\n",
    "    response = model.invoke(prompt) \n",
    "    return { \"messages\" : response }"
   ]
  },
  {
   "cell_type": "code",
   "execution_count": 10,
   "id": "e45e1b22",
   "metadata": {},
   "outputs": [
    {
     "data": {
      "text/plain": [
       "<langgraph.graph.state.StateGraph at 0x1c424607d30>"
      ]
     },
     "execution_count": 10,
     "metadata": {},
     "output_type": "execute_result"
    }
   ],
   "source": [
    "workFlow.add_edge(START, \"model\")\n",
    "workFlow.add_node(\"model\", call_model)"
   ]
  },
  {
   "cell_type": "code",
   "execution_count": 11,
   "id": "92c26277",
   "metadata": {},
   "outputs": [],
   "source": [
    "memory = MemorySaver()\n",
    "app = workFlow.compile(checkpointer=memory)"
   ]
  },
  {
   "cell_type": "code",
   "execution_count": 12,
   "id": "b9508e57",
   "metadata": {},
   "outputs": [],
   "source": [
    "config = { \"configurable\" : { \"thread_id\" : \"317\" }  }"
   ]
  },
  {
   "cell_type": "code",
   "execution_count": null,
   "id": "ee166a7f",
   "metadata": {},
   "outputs": [
    {
     "name": "stdout",
     "output_type": "stream",
     "text": [
      "==================================\u001b[1m Ai Message \u001b[0m==================================\n",
      "\n",
      "Alright, listen up, squad! I'm dropping some intel on Thiagarajar College of Engineering (TCE) in Fortnite terms. Think of it as a POI, alright?\n",
      "\n",
      "**Location, Location, Location (The Map)**\n",
      "\n",
      "TCE is like a named location on the Tamil Nadu map, specifically Madurai. It's not as centrally located as Tilted Towers used to be, but it's a well-established area with its own unique features. Think more like Pleasant Park – not always the hottest drop, but reliable and strategically important.\n",
      "\n",
      "**The Loot (Academics & Courses)**\n",
      "\n",
      "This POI is stacked with loot when it comes to education!\n",
      "\n",
      "*   **High Tier Weapons (Core Engineering Programs):** TCE is known for its strong engineering loot. We're talking top-tier assault rifles like Mechanical Engineering, Computer Science Engineering, Electrical and Electronics Engineering, Civil Engineering, and Chemical Engineering. These are your bread-and-butter weapons, reliable and powerful for securing your future.\n",
      "*   **Mid-Tier Gear (Other Engineering and Science Courses):** They also offer decent SMGs and shotguns in the form of courses like Architecture, Information Technology, and some science-based courses. They're not as high-powered as the core engineering stuff, but still viable for certain playstyles.\n",
      "*   **Utility Items (Research and Projects):** This POI is loaded with utility items like research labs, project opportunities, and workshops. These are like your bandages, medkits, and chug jugs – essential for healing up after tough exams and boosting your career stats.\n",
      "\n",
      "**The Players (Students and Faculty)**\n",
      "\n",
      "*   **The Pros (Faculty):** The faculty here are like highly skilled players with years of experience. They know the map inside and out and can guide you to the best loot (knowledge) and strategies. They're your mentors and coaches in this game.\n",
      "*   **The Grinders (Students):** You'll find all types of players here, from the hardcore grinders who are always optimizing their builds to the casual players who are just enjoying the game. You'll need to find your squad and work together to survive and thrive.\n",
      "*   **The Bots (Slackers):** Just like in every match, there are a few bots here too. The ones who don't put in the effort. Don't be one of them!\n",
      "\n",
      "**The Zone (Culture and Environment)**\n",
      "\n",
      "*   **Competitive Zone:** TCE has a competitive environment. The zone is always shrinking, pushing you to improve and perform well in exams and projects.\n",
      "*   **Event Zone (Fests and Events):** There are regular events and fests on campus, like tournaments and challenges. These are great opportunities to show off your skills, network with other players, and have some fun.\n",
      "*   **Safe Zone (Support Systems):** TCE also offers some support systems, like counseling and career guidance, which act like safe zones where you can recover and strategize.\n",
      "\n",
      "**The Endgame (Career Prospects)**\n",
      "\n",
      "*   **Victory Royale (High Placement Rate):** TCE has a reputation for getting its players placed in good companies. It's like winning the Victory Royale – you get the best loot (job offers) and bragging rights.\n",
      "*   **Top Leaderboard (Alumni Network):** The alumni network is strong, like a leaderboard of successful players who are willing to help you out.\n",
      "*   **The Circle (Reputation):** TCE is a well-known POI, which gives you a head start in the game. Having TCE on your resume is like having a legendary skin – it makes you stand out.\n",
      "\n",
      "**Overall Strategy**\n",
      "\n",
      "To succeed at TCE, you need a good strategy:\n",
      "\n",
      "*   **Choose Your Loadout Wisely:** Pick the course that suits your skills and interests.\n",
      "*   **Practice Your Builds:** Focus on your studies and develop your skills.\n",
      "*   **Team Up:** Find a good squad to work with.\n",
      "*   **Adapt to the Zone:** Be prepared for the competitive environment and the challenges.\n",
      "*   **Play to Win:** Aim for the Victory Royale and secure a good job.\n",
      "\n",
      "So, there you have it! TCE described in Fortnite terms. Good luck, and may the odds be ever in your favor! Now go get that Victory Royale!\n"
     ]
    }
   ],
   "source": [
    "query = \"Describe TCE\"\n",
    "\n",
    "input_message = [HumanMessage(query)]\n",
    "output = app.invoke({\"messages\": input_message}, config)\n",
    "output[\"messages\"][-1].pretty_print()"
   ]
  },
  {
   "cell_type": "code",
   "execution_count": null,
   "id": "049e7911",
   "metadata": {},
   "outputs": [],
   "source": []
  },
  {
   "cell_type": "code",
   "execution_count": null,
   "id": "feb0faa5",
   "metadata": {},
   "outputs": [],
   "source": []
  }
 ],
 "metadata": {
  "kernelspec": {
   "display_name": "venv",
   "language": "python",
   "name": "python3"
  },
  "language_info": {
   "codemirror_mode": {
    "name": "ipython",
    "version": 3
   },
   "file_extension": ".py",
   "mimetype": "text/x-python",
   "name": "python",
   "nbconvert_exporter": "python",
   "pygments_lexer": "ipython3",
   "version": "3.10.7"
  }
 },
 "nbformat": 4,
 "nbformat_minor": 5
}
