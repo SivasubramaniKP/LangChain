{
 "cells": [
  {
   "cell_type": "code",
   "execution_count": null,
   "id": "ddc1a570",
   "metadata": {},
   "outputs": [],
   "source": [
    "import re"
   ]
  },
  {
   "cell_type": "code",
   "execution_count": null,
   "id": "e9437b7c",
   "metadata": {},
   "outputs": [],
   "source": [
    "STRING1 = \"\tE/( 1553):   at widget.List.makeView(ListView.java:1727)\"\n",
    "pattern = '^.*\\.(\\w+)\\((\\w+\\.java):(\\d+)\\)?'\n",
    "\n",
    "a = re.search(pattern=pattern, string=STRING1)\n",
    "print(a.group(1), a.group(2), a.group(3))"
   ]
  },
  {
   "cell_type": "code",
   "execution_count": null,
   "id": "09965dce",
   "metadata": {},
   "outputs": [],
   "source": [
    "STRING2 = 'https://regexone.com:1302/lesson/introduction#section' \n",
    "pattern = '^(\\w+)://([\\w\\-\\.]+):?(\\d+)?/.*'\n",
    "\n",
    "a = re.search(pattern, STRING2)\n",
    "print(a.group(1), a.group(2), a.group(3))"
   ]
  },
  {
   "cell_type": "code",
   "execution_count": null,
   "id": "d869dac2",
   "metadata": {},
   "outputs": [],
   "source": [
    "#Name, email, PAN\n",
    "\n",
    "\"\"\"\n",
    "    Name should not contain numbers and no special characters\n",
    "\"\"\"\n",
    "\n",
    "NAME1 = \"\"\n",
    "\n",
    "pattern = '[a-zA-Z\\.\\s]+'\n",
    "\n",
    "if ( re.fullmatch(pattern, NAME1) ):\n",
    "    print(\"Valid Name\")\n",
    "else:\n",
    "    print(\"Not a valid name\")"
   ]
  },
  {
   "cell_type": "code",
   "execution_count": null,
   "id": "014a7388",
   "metadata": {},
   "outputs": [],
   "source": [
    "pattern = '[a-zA-Z\\d\\.]+@[a-zA-Z.]{2,}[a-zA-Z]'\n",
    "\n",
    "EMAIL1 = \"sivasubramani.kp@gmail.com\"\n",
    "EMAIL2 = \"abc@xyz.com\"\n",
    "if ( re.fullmatch(pattern, EMAIL2) ):\n",
    "    print(\"Valid Email\")\n",
    "else:\n",
    "    print(\"Not a valid email\")"
   ]
  },
  {
   "cell_type": "code",
   "execution_count": null,
   "id": "4f34580b",
   "metadata": {},
   "outputs": [],
   "source": [
    "\"\"\"\n",
    "   The PAN structure is as follows: Fourth character [P — Individual or Person] Example: AAAPZ1234C\n",
    "\n",
    "The first five characters are letters (in uppercase by default),\n",
    " followed by four numerals, \n",
    " and the last (tenth) character is a letter.\n",
    "\n",
    " \n",
    "The first three characters of the code are three letters forming a sequence of alphabetical letters from AAA to ZZZ\n",
    "The fourth character identifies the type of holder of the card. Each holder type is uniquely defined by a letter from the list below:\n",
    "A — AOP (Association of persons)\n",
    "B — BOI (Body of individuals)\n",
    "C — Company\n",
    "F — Firm\n",
    "G — Government\n",
    "H — HUF (Hindu Undivided Family)\n",
    "L — Local authority\n",
    "J — Artificial juridical person\n",
    "P — Person (Individual)\n",
    "T — Trust (AOP) \n",
    "\"\"\""
   ]
  },
  {
   "cell_type": "code",
   "execution_count": null,
   "id": "cc7d546b",
   "metadata": {},
   "outputs": [],
   "source": [
    "pattern = '[A-Z]{3}[ABCFGHLJPT][A-Z]\\d{4}[A-Z]'\n",
    "\n",
    "PAN1 = \"AAAUZ1234C\"\n",
    "if ( re.fullmatch(pattern, PAN1) ):\n",
    "    print(\"VALID PAN\")\n",
    "else:\n",
    "    print(\"NOT A VALID PAN\")"
   ]
  }
 ],
 "metadata": {
  "kernelspec": {
   "display_name": "venv",
   "language": "python",
   "name": "python3"
  },
  "language_info": {
   "codemirror_mode": {
    "name": "ipython",
    "version": 3
   },
   "file_extension": ".py",
   "mimetype": "text/x-python",
   "name": "python",
   "nbconvert_exporter": "python",
   "pygments_lexer": "ipython3",
   "version": "3.10.7"
  }
 },
 "nbformat": 4,
 "nbformat_minor": 5
}
