{
 "cells": [
  {
   "cell_type": "code",
   "execution_count": 1,
   "id": "beb4528e",
   "metadata": {},
   "outputs": [
    {
     "data": {
      "text/plain": [
       "' \\nB.E.(CSE) – Degree Programme 2022 - 2023 \\n \\nApproved in 63rd Academic Council meeting on 25.06.2022  \\n                  \\n \\n \\n \\nAssessment Pattern \\nCO CAT1 CAT2 Terminal \\n   \\nTPS \\nScale 1 2 3 4 5 6 1 2 3 4 5 6 1 2 3 4 5 6 \\nCO1 4 20 0                   2 8      \\nCO2 4 0 20                   2 4 10    \\nCO3 4 20 0                2 8      \\nCO4 8 0 20                 2 4 10    \\nCO5             12 20 20       6 8 10    \\nCO6             8 20 20       6 8 10    \\n \\n*Terminal examination should cover all Course Outcomes in the appropriate TPS Scale level. \\n \\nCO Assignment 1* Assignment 2* \\n  \\nTPS \\nScale \\n1 2 3 4 5 6 1 2 3 4 5 6 \\nCO1             \\nCO2   20          \\nCO3             \\nCO4   20          \\nCO5         20    \\nCO6                 20       \\n   *Assessment type: Quiz / Test /Presentation \\n \\nSyllabus \\nWater: Water-sources- physical - characteristics - alkalinity - hardness of water – types -\\ndetermination of hardness by EDTA method. Boiler trouble -Softening of water: lnternal and \\nExternal treatment methods. Waste water treatment process.  Electrochemical technologies \\nfor energy storage and surface engineering: Electrochemistry and Energy storage: Basics \\nof electrochemistry. Batteries - Primary and Secondary batteries. Fuel cells.Hydrogen \\ngeneration and storage. Corrosion and S urface Engineering–Basics –Corrosion - causes- \\nfactors- types -  corrosion of metal and computer components- Corrosion control. Electroplating \\n- Electroless process. Spectroscopic technique and applications: Principle, instrumentation, \\nand applications: X-ray-diffraction - UV–Visible spectroscopy- Atomic Absorption Spectroscopy \\n- Fluorescence spectroscopy -  Inductively Coupled Plasma - Optical Emission Spectroscopy- \\nInfra-red spectroscopy - Nuclear magnetic resonance spectroscopy. Engineering materials: \\nBonding and their influences on the property of materials - melting point - brittleness, ductility – \\nthermal, electrical, and ionic conductivity - optical – magnetic properties, hydrophobic, \\nhydrophilic. Polymer composites  - structure and properties -applications.Ceramics and \\nadvanced ceramics - types-properties-applications-Nano-materials – Synthesis, structure, \\nand properties –applications. \\nText Book \\n1. P.C. Jain and Monica Jain, A Textbook of Engineering Chemistry, DhanpatRai \\npublications, New Delhi, 16thedition, 2015. \\n \\n '"
      ]
     },
     "execution_count": 1,
     "metadata": {},
     "output_type": "execute_result"
    }
   ],
   "source": [
    "import pypdf\n",
    "\n",
    "reader = pypdf.PdfReader(\"../PDFFiles/Course.pdf\")\n",
    "\n",
    "\n",
    "reader.pages[22].extract_text()"
   ]
  },
  {
   "cell_type": "code",
   "execution_count": null,
   "id": "3fea7d08",
   "metadata": {},
   "outputs": [],
   "source": [
    "from langchain.chat_models import init_chat_model\n",
    "\n",
    "model = init_chat_model(\"gemini-2.0-flash\", model_provider=\"google_genai\") "
   ]
  },
  {
   "cell_type": "code",
   "execution_count": null,
   "id": "9ba132e2",
   "metadata": {},
   "outputs": [
    {
     "data": {
      "text/plain": [
       "AIMessage(content='Hi there! How can I help you today?', additional_kwargs={}, response_metadata={'prompt_feedback': {'block_reason': 0, 'safety_ratings': []}, 'finish_reason': 'STOP', 'model_name': 'gemini-2.0-flash', 'safety_ratings': []}, id='run--592a3e0b-1473-4f2e-8c6a-7062a3c964f4-0', usage_metadata={'input_tokens': 5, 'output_tokens': 11, 'total_tokens': 16, 'input_token_details': {'cache_read': 0}})"
      ]
     },
     "execution_count": 12,
     "metadata": {},
     "output_type": "execute_result"
    }
   ],
   "source": [
    "from langchain_core.messages import SystemMessage, HumanMessage"
   ]
  },
  {
   "cell_type": "code",
   "execution_count": null,
   "id": "073499cb",
   "metadata": {},
   "outputs": [],
   "source": [
    "from langchain_google_genai import GoogleGenerativeAIEmbeddings\n",
    "\n",
    "embeddings = GoogleGenerativeAIEmbeddings(model=\"models/embedding-001\")"
   ]
  },
  {
   "cell_type": "code",
   "execution_count": null,
   "id": "eefbe761",
   "metadata": {},
   "outputs": [],
   "source": [
    "from langchain_core.vectorstores import InMemoryVectorStore\n",
    "\n",
    "vector_store = InMemoryVectorStore(embeddings)"
   ]
  },
  {
   "cell_type": "code",
   "execution_count": 22,
   "id": "10f575a2",
   "metadata": {},
   "outputs": [],
   "source": [
    "from langchain_community.document_loaders import PyPDFLoader\n",
    "\n",
    "filePath = \"./Course.pdf\"\n",
    "loader = PyPDFLoader(file_path=filePath)\n",
    "\n",
    "docs = loader.load()"
   ]
  },
  {
   "cell_type": "code",
   "execution_count": 23,
   "id": "0f9d6af2",
   "metadata": {},
   "outputs": [],
   "source": [
    "from langchain_text_splitters import RecursiveCharacterTextSplitter\n",
    "from langchain_core.documents import Document\n",
    "text_splitter = RecursiveCharacterTextSplitter(chunk_size=1000, chunk_overlap=200)\n",
    "all_splits = text_splitter.split_documents(docs)\n"
   ]
  },
  {
   "cell_type": "code",
   "execution_count": 24,
   "id": "1678f58e",
   "metadata": {},
   "outputs": [],
   "source": [
    "_ = vector_store.add_documents(documents=all_splits)"
   ]
  },
  {
   "cell_type": "code",
   "execution_count": 25,
   "id": "eb730492",
   "metadata": {},
   "outputs": [],
   "source": [
    "from langchain import hub\n",
    "prompt = hub.pull(\"rlm/rag-prompt\")"
   ]
  },
  {
   "cell_type": "code",
   "execution_count": 26,
   "id": "5c17f3c6",
   "metadata": {},
   "outputs": [],
   "source": [
    "from typing_extensions import TypedDict, List\n",
    "from langgraph.graph import START, StateGraph\n",
    "class State(TypedDict):\n",
    "    question: str\n",
    "    context: List[Document]\n",
    "    answer: str\n",
    "\n",
    "\n",
    "# Define application steps\n",
    "def retrieve(state: State):\n",
    "    retrieved_docs = vector_store.similarity_search(state[\"question\"])\n",
    "    return {\"context\": retrieved_docs}\n",
    "\n",
    "\n",
    "def generate(state: State):\n",
    "    docs_content = \"\\n\\n\".join(doc.page_content for doc in state[\"context\"])\n",
    "    messages = prompt.invoke({\"question\": state[\"question\"], \"context\": docs_content})\n",
    "    response = model.invoke(messages)\n",
    "    return {\"answer\": response.content}\n",
    "\n",
    "\n",
    "# Compile application and test\n",
    "graph_builder = StateGraph(State).add_sequence([retrieve, generate])\n",
    "graph_builder.add_edge(START, \"retrieve\")\n",
    "graph = graph_builder.compile()"
   ]
  },
  {
   "cell_type": "code",
   "execution_count": 33,
   "id": "29407049",
   "metadata": {},
   "outputs": [
    {
     "data": {
      "text/plain": [
       "'The course outcomes of the Database Management System course are: to develop data models, manipulate relational databases, design normalized databases, construct data structures for fast data retrieval, and make use of different forms of transactions, concurrency control, and recovery. Students will also be able to create Entity Relationship and Relational models for real-world applications. These outcomes aim to provide students with a comprehensive understanding of database management systems.'"
      ]
     },
     "execution_count": 33,
     "metadata": {},
     "output_type": "execute_result"
    }
   ],
   "source": [
    "response = graph.invoke({\n",
    "    \"question\" : \"what are the course outcomes of Database Management System course\"\n",
    "})\n",
    "\n",
    "response[\"answer\"]"
   ]
  },
  {
   "cell_type": "code",
   "execution_count": null,
   "id": "ab554d15",
   "metadata": {},
   "outputs": [],
   "source": []
  },
  {
   "cell_type": "code",
   "execution_count": null,
   "id": "5a85d67a",
   "metadata": {},
   "outputs": [],
   "source": []
  }
 ],
 "metadata": {
  "kernelspec": {
   "display_name": "venv",
   "language": "python",
   "name": "python3"
  },
  "language_info": {
   "codemirror_mode": {
    "name": "ipython",
    "version": 3
   },
   "file_extension": ".py",
   "mimetype": "text/x-python",
   "name": "python",
   "nbconvert_exporter": "python",
   "pygments_lexer": "ipython3",
   "version": "3.10.7"
  }
 },
 "nbformat": 4,
 "nbformat_minor": 5
}
