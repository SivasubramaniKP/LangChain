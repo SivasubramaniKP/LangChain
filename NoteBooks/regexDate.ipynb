{
 "cells": [
  {
   "cell_type": "code",
   "execution_count": 22,
   "id": "bdaf678d",
   "metadata": {},
   "outputs": [],
   "source": [
    "class Date:\n",
    "    day : int\n",
    "    month : str | int\n",
    "    year : int\n",
    "\n",
    "    def __init__(\n",
    "            self,\n",
    "            Date : str\n",
    "    ):\n",
    "\n",
    "        import re\n",
    "        from typing import Literal\n",
    "        pattern = '^(\\d{1,2})[-./](\\d{1,2}|\\w+)[-./](\\d{4})$'\n",
    "\n",
    "        compiled = re.fullmatch(pattern, Date)\n",
    "        if not compiled:\n",
    "                raise ValueError(\"Please provide the date in dd-mm-yyyy\")\n",
    "\n",
    "        day = (compiled.group(1))\n",
    "        month = compiled.group(2)\n",
    "        year = (compiled.group(3))\n",
    "        print([day, month, year])\n",
    "        if not day.isnumeric():\n",
    "                raise ValueError(\"Day cannot be empty or a string\")\n",
    "        if not year.isnumeric():\n",
    "                raise ValueError(\"Year cannot be empty or a string\")\n",
    "\n",
    "        day = int(day)\n",
    "        year = int(year)\n",
    "        month_Num = None\n",
    "\n",
    "        if month.isnumeric():\n",
    "                if int(month) <= 0 or int(month) >= 12:\n",
    "                        raise ValueError(\"Not a valid Month.. Enter a month between 1 and 12\")\n",
    "                else:\n",
    "                        month_Num = int(month)\n",
    "                        month = month_Num\n",
    "        if ( isinstance(month, str) ):\n",
    "                if month.upper() in [\"JAN\", \"JANUARY\"]:\n",
    "                        month_Num = 1\n",
    "        \n",
    "                elif month.upper() in [\"FEB\", \"FEBRUARY\"]:\n",
    "                        month_Num = 2\n",
    "\n",
    "                elif month.upper() in [\"MAR\", \"MARCH\"]:\n",
    "                        month_Num = 3\n",
    "\n",
    "                elif month.upper() in [\"APR\", \"APRIL\"]:\n",
    "                        month_Num = 4\n",
    "                \n",
    "                elif month.upper() in [\"MAY\"]:\n",
    "                        month_Num = 5\n",
    "                \n",
    "                elif month.upper() in [\"JUN\", \"JUNE\"]:\n",
    "                        month_Num = 6\n",
    "\n",
    "                elif month.upper() in [\"JUL\", \"JULY\"]:\n",
    "                        month_Num = 7\n",
    "\n",
    "                elif month.upper() in [\"AUG\", \"AUGUST\"]:\n",
    "                        month_Num = 8\n",
    "\n",
    "                elif month.upper() in [\"SEP\", \"SEPTEMBER\"]:\n",
    "                        month_Num = 9\n",
    "\n",
    "                elif month.upper() in [\"OCT\", \"OCTOBER\"]:\n",
    "                        month_Num = 10\n",
    "\n",
    "                elif month.upper() in [\"NOV\", \"NOVEMBER\"]:\n",
    "                        month_Num = 11\n",
    "\n",
    "                elif month.upper() in [\"DEC\", \"DECEMBER\"]:\n",
    "                        month_Num = 12\n",
    "                else:\n",
    "                        raise ValueError(\"Not a valid Month\")\n",
    "\n",
    "\n",
    "        daysInAMonthDict = {\n",
    "        1 : 30,\n",
    "        2 : 28,\n",
    "        3 : 31,\n",
    "        4 : 30,\n",
    "        5 : 31,\n",
    "        6 : 30,\n",
    "        7 : 31,\n",
    "        8 : 31,\n",
    "        9 : 30,\n",
    "        10 : 31,\n",
    "        11 : 30,\n",
    "        12  : 31\n",
    "        }\n",
    "\n",
    "        def isLeapYear(\n",
    "                year : int\n",
    "        ) -> bool:\n",
    "                if year % 100 == 0:\n",
    "                        if year % 400 == 0:\n",
    "                                return True\n",
    "                        else:\n",
    "                                return False\n",
    "                else:\n",
    "                        if year % 4 == 0 :\n",
    "                                return True\n",
    "                        else:\n",
    "                                return False\n",
    "\n",
    "        if isLeapYear(year):\n",
    "                daysInAMonthDict[2] = 29\n",
    "\n",
    "        if day <= 0 or day > daysInAMonthDict[month_Num]:\n",
    "                raise ValueError(\"Invalid number of days\") \n",
    "\n",
    "\n",
    "        self.day = day\n",
    "        self.month = month_Num\n",
    "        self.year = year"
   ]
  },
  {
   "cell_type": "code",
   "execution_count": 15,
   "id": "08737c12",
   "metadata": {},
   "outputs": [
    {
     "data": {
      "text/plain": [
       "'Jun 18-06-2025 12:41:51'"
      ]
     },
     "execution_count": 15,
     "metadata": {},
     "output_type": "execute_result"
    }
   ],
   "source": [
    "from datetime import datetime\n",
    "\n",
    "dateNow = datetime.now()\n",
    "year = dateNow.strftime(\"%b %d-%m-%Y %H:%M:%S\")\n",
    "year"
   ]
  },
  {
   "cell_type": "code",
   "execution_count": 56,
   "id": "838b827f",
   "metadata": {},
   "outputs": [
    {
     "name": "stdout",
     "output_type": "stream",
     "text": [
      "144\n"
     ]
    }
   ],
   "source": [
    "from itertools import permutations\n",
    "\n",
    "possibleFormats = []\n",
    "d = [\"%d\"]\n",
    "m = [\"%b\", \"%B\", \"%m\"]\n",
    "y = [\"%y\", \"%Y\"]\n",
    "delimiter = [\".\", \"/\", \" \", \"-\"]\n",
    "\n",
    "mapping = {\n",
    "    'd': d,\n",
    "    'm': m,\n",
    "    'y': y,\n",
    "}\n",
    "\n",
    "all_permutations = list(permutations(['d', 'm', 'y']))\n",
    "\n",
    "for sep in delimiter: \n",
    "    for perm in all_permutations:\n",
    "        for x in mapping[perm[0]]:\n",
    "            for y_ in mapping[perm[1]]:\n",
    "                for z in mapping[perm[2]]:\n",
    "                    s = f\"{x}{sep}{y_}{sep}{z}\"\n",
    "                    possibleFormats.append(s)\n",
    "print(len(possibleFormats))\n"
   ]
  },
  {
   "cell_type": "code",
   "execution_count": 106,
   "id": "a91857b2",
   "metadata": {},
   "outputs": [],
   "source": [
    "import re\n",
    "from datetime import datetime\n",
    "\n",
    "def remove_day_suffixes(date_str: str) -> str:\n",
    "    return re.sub('(\\d+)\\s*(st|nd|rd|th)', r'\\1', date_str)\n",
    "\n",
    "def normalize_date(date_str: str) -> str:\n",
    "    date_str = date_str.strip()                    \n",
    "    date_str = remove_day_suffixes(date_str)\n",
    "    date_str = date_str.replace(',', '')           \n",
    "    date_str = date_str.replace('.', '-')          \n",
    "    date_str = re.sub(r'\\s+', ' ', date_str) \n",
    "    print(\"BEFORE REGEX : \" + date_str)   \n",
    "    # date_str = re.sub(r'\\s*(\\d{1,2})\\s*[/-]\\s*(\\d{1,2}|\\w+)\\s*[/-]\\s*(\\d{2,4})', r'\\1/\\2/\\3', date_str)\n",
    "    date_str = date_str.replace(\" \", \"\")\n",
    "    return date_str\n",
    "\n",
    "def standardize_date(date_str: str) -> str:\n",
    "    date_str = normalize_date(date_str)\n",
    "    print(\"Normalized date_str = \" + date_str)\n",
    "\n",
    "    # knownFormats = [\n",
    "    #     \"%d-%m-%Y\", \n",
    "    #     \"%d-%m-%y\",\n",
    "    #     \"%d/%m/%Y\", \"%d/%m/%y\",\n",
    "    #     \"%Y-%m-%d\", \n",
    "    #     \"%Y/%m/%d\",\n",
    "    #     \"%d-%b-%Y\", \n",
    "    #     \"%d-%B-%Y\",\n",
    "    #     \"%d %b %Y\", \"%d %B %Y\",\n",
    "    #     \"%b %d %Y\",\n",
    "    #       \"%B %d %Y\",\n",
    "    #     \"%b %d, %Y\", \"%B %d, %Y\",\n",
    "    #     \"%b %d %y\", \n",
    "    #     \"%B %d %y\",\n",
    "    #     \"%Y %b %d\", \"%Y %B %d\",\n",
    "    #     \"%b-%d-%Y\", \"%B-%d-%Y\",\n",
    "    #     \"%b-%d-%y\", \"%B-%d-%y\",\n",
    "    #     \"%d.%m.%Y\", \"%d.%m.%y\",\n",
    "    #     \"%d %B %y\", \"%d/%B/%y\", \"%d/%B/%Y\", \"%d/%b/%y\", \"%d/%b/%y\", \"%y/%b/%d\", \"%y/%B/%d\"\n",
    "    # ]\n",
    "    for fmt in possibleFormats:\n",
    "        try:\n",
    "            dt = datetime.strptime(date_str, fmt)\n",
    "            return dt.strftime(\"%d-%m-%Y\")\n",
    "        except ValueError:\n",
    "            continue\n",
    "\n",
    "    raise ValueError(f\"Unsupported date format: {date_str}\")\n"
   ]
  },
  {
   "cell_type": "code",
   "execution_count": 119,
   "id": "d4310703",
   "metadata": {},
   "outputs": [
    {
     "name": "stdout",
     "output_type": "stream",
     "text": [
      "BEFORE REGEX : April- 25 -24\n",
      "Normalized date_str = April-25-24\n"
     ]
    },
    {
     "data": {
      "text/plain": [
       "'25-04-2024'"
      ]
     },
     "execution_count": 119,
     "metadata": {},
     "output_type": "execute_result"
    }
   ],
   "source": [
    "standardize_date(\"April- 25  -24\")"
   ]
  },
  {
   "cell_type": "code",
   "execution_count": 98,
   "id": "73178fb6",
   "metadata": {},
   "outputs": [
    {
     "name": "stdout",
     "output_type": "stream",
     "text": [
      "BEFORE REGEX : 37/ February/ 21\n",
      "Normalized date_str = 37/February/21\n"
     ]
    },
    {
     "data": {
      "text/plain": [
       "'21-02-2037'"
      ]
     },
     "execution_count": 98,
     "metadata": {},
     "output_type": "execute_result"
    }
   ],
   "source": [
    "standardize_date(\"37/ February/ 21\")"
   ]
  },
  {
   "cell_type": "code",
   "execution_count": null,
   "id": "61b14d70",
   "metadata": {},
   "outputs": [
    {
     "name": "stdout",
     "output_type": "stream",
     "text": [
      "After removing suffixes 5 June 37\n",
      "Normalized date_str = 5 June 37\n",
      "05-06-2037\n",
      "After removing suffixes 7 mAY 99\n",
      "Normalized date_str = 7 mAY 99\n",
      "07-05-1999\n",
      "After removing suffixes 09/09/12\n",
      "Normalized date_str = 09/09/12\n",
      "09-09-2012\n"
     ]
    }
   ],
   "source": [
    "while True:\n",
    "    print(standardize_date(input()))"
   ]
  },
  {
   "cell_type": "markdown",
   "id": "b25f1024",
   "metadata": {},
   "source": [
    "Year can be at the starting or at the end\n",
    "Year can be like [ \" '95 \", \" 1995 \" ]\n",
    "\n",
    "Month can be only at the first or in the middle\n",
    "Month can be represented by [ 9, Sep, September ]\n",
    "\n",
    "Day is represented only as %d\n",
    "\n",
    "The delimiter used are [ \" \", /, -, . ]\n",
    "\n",
    "__ (delimeter) ____ (delimeter) ____\n",
    "[ dmy, dym, mdy, myd, ymd, ydm ]\n",
    "d-m-y\n",
    "1 * 3 * 2 * 4 = 24\n",
    "\n",
    "m d y\n",
    "3 * 1 * 2 * 4 = 24\n",
    "\n",
    "...\n",
    "There are 6 Permutations \n",
    "6 * 24 = 144"
   ]
  },
  {
   "cell_type": "code",
   "execution_count": 50,
   "id": "468e76a9",
   "metadata": {},
   "outputs": [
    {
     "name": "stdout",
     "output_type": "stream",
     "text": [
      "('d', 'm', 'y')\n",
      "('d', 'y', 'm')\n",
      "('m', 'd', 'y')\n",
      "('m', 'y', 'd')\n",
      "('y', 'd', 'm')\n",
      "('y', 'm', 'd')\n"
     ]
    }
   ],
   "source": [
    "from itertools import permutations\n",
    "my_list = [\"d\", \"m\", \"y\"]\n",
    "all_permutations = list(permutations(my_list))\n",
    "for i in all_permutations:\n",
    "    print(i)"
   ]
  },
  {
   "cell_type": "code",
   "execution_count": null,
   "id": "cc21597f",
   "metadata": {},
   "outputs": [],
   "source": []
  },
  {
   "cell_type": "code",
   "execution_count": 53,
   "id": "bdbb7e3b",
   "metadata": {},
   "outputs": [
    {
     "data": {
      "text/plain": [
       "144"
      ]
     },
     "execution_count": 53,
     "metadata": {},
     "output_type": "execute_result"
    }
   ],
   "source": []
  },
  {
   "cell_type": "code",
   "execution_count": null,
   "id": "1dc80319",
   "metadata": {},
   "outputs": [],
   "source": []
  }
 ],
 "metadata": {
  "kernelspec": {
   "display_name": "venv",
   "language": "python",
   "name": "python3"
  },
  "language_info": {
   "codemirror_mode": {
    "name": "ipython",
    "version": 3
   },
   "file_extension": ".py",
   "mimetype": "text/x-python",
   "name": "python",
   "nbconvert_exporter": "python",
   "pygments_lexer": "ipython3",
   "version": "3.10.7"
  }
 },
 "nbformat": 4,
 "nbformat_minor": 5
}
