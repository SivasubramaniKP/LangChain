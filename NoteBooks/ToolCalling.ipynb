{
 "cells": [
  {
   "cell_type": "code",
   "execution_count": 8,
   "id": "6ce44913",
   "metadata": {},
   "outputs": [],
   "source": [
    "\n",
    "from __future__ import print_function\n",
    "from langchain_core.tools import tool\n",
    "from langchain.chat_models import init_chat_model\n",
    "model = init_chat_model(\"gemini-2.0-flash\",model_provider=\"google_genai\")"
   ]
  },
  {
   "cell_type": "code",
   "execution_count": 9,
   "id": "a0c92217",
   "metadata": {},
   "outputs": [],
   "source": [
    "\n",
    "def getSuggestions(weatherSummary):\n",
    "    \"\"\"\n",
    "        To produce suggestions for user based on current weather report\n",
    "    Args:\n",
    "        weatherSummary : Detailed weather report\n",
    "    \"\"\"\n",
    "    from langchain_core.prompts import ChatPromptTemplate\n",
    "    prompt_template = ChatPromptTemplate([\n",
    "        (\"system\", \"You are given weather report, Tell the user how to plan their day accordingly\"),\n",
    "        (\"user\", \"Make suggestions for this report {weatherSummary}\")\n",
    "    ])\n",
    "\n",
    "    prompt = prompt_template.invoke({\n",
    "        \"weatherSummary\" : weatherSummary\n",
    "    })\n",
    "\n",
    "    res = model.invoke(prompt)\n",
    "    res.pretty_print()\n",
    "    return res.content \n"
   ]
  },
  {
   "cell_type": "code",
   "execution_count": 10,
   "id": "d299ebf3",
   "metadata": {},
   "outputs": [],
   "source": [
    "def getWeatherInfo(city: str) -> any:\n",
    "    \"\"\"\n",
    "        To get the weather info in the given city\n",
    "\n",
    "    Args:\n",
    "        city : CIty in which the weather report to be fetched\n",
    "    \"\"\"\n",
    "    \n",
    "    import time\n",
    "    import weatherapi\n",
    "    from weatherapi.rest import ApiException\n",
    "    from pprint import pprint\n",
    "    import datetime\n",
    "\n",
    "    currentDate = datetime.date.today()\n",
    "    formatted_date = currentDate.strftime(\"%Y-%m-%d\")\n",
    "    # Configure API key authorization: ApiKeyAuth\n",
    "    configuration = weatherapi.Configuration()\n",
    "    configuration.api_key['key'] = 'e00b8e34d43b4cbea5380937250906'\n",
    "    # Uncomment below to setup prefix (e.g. Bearer) for API key, if needed\n",
    "    # configuration.api_key_prefix['key'] = 'Bearer'\n",
    "\n",
    "    # create an instance of the API class\n",
    "    api_instance = weatherapi.APIsApi(weatherapi.ApiClient(configuration))\n",
    "    q = city\n",
    "    dt = \"2025-06-11\" \n",
    "\n",
    "    try:\n",
    "        # Astronomy API\n",
    "        api_response = api_instance.forecast_weather(q, dt)\n",
    "        print(api_response)\n",
    "        return (api_response)\n",
    "    except ApiException as e:\n",
    "        print(\"Exception when calling APIsApi->astronomy: %s\\n\" % e)"
   ]
  },
  {
   "cell_type": "code",
   "execution_count": null,
   "id": "e7b291db",
   "metadata": {},
   "outputs": [],
   "source": [
    "from langchain_core.prompts import ChatPromptTemplate\n",
    "\n",
    "def makeWeatherReport(weatherReport):\n",
    "    \"\"\"\n",
    "        Based on JSON provided by weather API\n",
    "        to generate a detailed overview of the climate\n",
    "    Args:\n",
    "        weatherReport: JSON file containing all the weather details\n",
    "    \"\"\"\n",
    "    prompt_template = ChatPromptTemplate([\n",
    "        (\"system\", \"You are a meteorologist. You will given a detailed JSON weather report. Summarize the important and significant points in detail\"),\n",
    "        (\"user\", \"Give me weather report for {weatherJSON}\")\n",
    "    ]) \n",
    "    prompt = prompt_template.invoke({\n",
    "        \"weatherJSON\" : weatherReport\n",
    "    })\n",
    "    response = model.invoke(prompt)\n",
    "    response.pretty_print()\n",
    "    return response.content"
   ]
  },
  {
   "cell_type": "code",
   "execution_count": 12,
   "id": "45e769e5",
   "metadata": {},
   "outputs": [],
   "source": [
    "from langchain_core.runnables import RunnableSequence\n",
    "from langchain_core.runnables import RunnableLambda\n",
    "chain = RunnableLambda(getWeatherInfo) | RunnableLambda(makeWeatherReport) | RunnableLambda(getSuggestions)"
   ]
  },
  {
   "cell_type": "code",
   "execution_count": 13,
   "id": "248867a9",
   "metadata": {},
   "outputs": [
    {
     "name": "stdout",
     "output_type": "stream",
     "text": [
      "{'location': {'name': 'Madurai', 'region': 'Tamil Nadu', 'country': 'India', 'lat': 9.9333, 'lon': 78.1167, 'tz_id': 'Asia/Kolkata', 'localtime_epoch': 1749706229, 'localtime': '2025-06-12 11:00'}, 'current': {'last_updated_epoch': 1749706200, 'last_updated': '2025-06-12 11:00', 'temp_c': 35.1, 'temp_f': 95.2, 'is_day': 1, 'condition': {'text': 'Partly cloudy', 'icon': '//cdn.weatherapi.com/weather/64x64/day/116.png', 'code': 1003}, 'wind_mph': 8.5, 'wind_kph': 13.7, 'wind_degree': 247, 'wind_dir': 'WSW', 'pressure_mb': 1004.0, 'pressure_in': 29.65, 'precip_mm': 0.0, 'precip_in': 0.0, 'humidity': 47, 'cloud': 50, 'feelslike_c': 43.6, 'feelslike_f': 110.4, 'windchill_c': 31.2, 'windchill_f': 88.1, 'heatindex_c': 34.5, 'heatindex_f': 94.2, 'dewpoint_c': 21.3, 'dewpoint_f': 70.3, 'vis_km': 6.0, 'vis_miles': 3.0, 'uv': 9.3, 'gust_mph': 9.8, 'gust_kph': 15.7}, 'forecast': {'forecastday': [{'date': '2025-06-12', 'date_epoch': 1749686400, 'day': {'maxtemp_c': 32.4, 'maxtemp_f': 90.3, 'mintemp_c': 25.2, 'mintemp_f': 77.3, 'avgtemp_c': 28.2, 'avgtemp_f': 82.7, 'maxwind_mph': 14.3, 'maxwind_kph': 23.0, 'totalprecip_mm': 0.33, 'totalprecip_in': 0.01, 'totalsnow_cm': 0.0, 'avgvis_km': 9.8, 'avgvis_miles': 6.0, 'avghumidity': 68, 'daily_will_it_rain': 1, 'daily_chance_of_rain': 85, 'daily_will_it_snow': 0, 'daily_chance_of_snow': 0, 'condition': {'text': 'Patchy rain nearby', 'icon': '//cdn.weatherapi.com/weather/64x64/day/176.png', 'code': 1063}, 'uv': 2.3}, 'astro': {'sunrise': '05:57 AM', 'sunset': '06:38 PM', 'moonrise': '07:44 PM', 'moonset': '06:30 AM', 'moon_phase': 'Waning Gibbous', 'moon_illumination': 99, 'is_moon_up': 1, 'is_sun_up': 0}, 'hour': [{'time_epoch': 1749666600, 'time': '2025-06-12 00:00', 'temp_c': 25.4, 'temp_f': 77.7, 'is_day': 0, 'condition': {'text': 'Overcast ', 'icon': '//cdn.weatherapi.com/weather/64x64/night/122.png', 'code': 1009}, 'wind_mph': 7.4, 'wind_kph': 11.9, 'wind_degree': 253, 'wind_dir': 'WSW', 'pressure_mb': 1004.0, 'pressure_in': 29.66, 'precip_mm': 0.0, 'precip_in': 0.0, 'snow_cm': 0.0, 'humidity': 87, 'cloud': 100, 'feelslike_c': 28.1, 'feelslike_f': 82.6, 'windchill_c': 25.4, 'windchill_f': 77.7, 'heatindex_c': 28.1, 'heatindex_f': 82.6, 'dewpoint_c': 23.1, 'dewpoint_f': 73.5, 'will_it_rain': 0, 'chance_of_rain': 0, 'will_it_snow': 0, 'chance_of_snow': 0, 'vis_km': 10.0, 'vis_miles': 6.0, 'gust_mph': 10.0, 'gust_kph': 16.1, 'uv': 0}, {'time_epoch': 1749670200, 'time': '2025-06-12 01:00', 'temp_c': 25.5, 'temp_f': 77.9, 'is_day': 0, 'condition': {'text': 'Overcast ', 'icon': '//cdn.weatherapi.com/weather/64x64/night/122.png', 'code': 1009}, 'wind_mph': 6.7, 'wind_kph': 10.8, 'wind_degree': 262, 'wind_dir': 'W', 'pressure_mb': 1004.0, 'pressure_in': 29.64, 'precip_mm': 0.0, 'precip_in': 0.0, 'snow_cm': 0.0, 'humidity': 87, 'cloud': 100, 'feelslike_c': 28.3, 'feelslike_f': 82.9, 'windchill_c': 25.5, 'windchill_f': 77.9, 'heatindex_c': 28.3, 'heatindex_f': 82.9, 'dewpoint_c': 23.1, 'dewpoint_f': 73.6, 'will_it_rain': 0, 'chance_of_rain': 0, 'will_it_snow': 0, 'chance_of_snow': 0, 'vis_km': 10.0, 'vis_miles': 6.0, 'gust_mph': 9.1, 'gust_kph': 14.7, 'uv': 0}, {'time_epoch': 1749673800, 'time': '2025-06-12 02:00', 'temp_c': 25.9, 'temp_f': 78.7, 'is_day': 0, 'condition': {'text': 'Partly Cloudy ', 'icon': '//cdn.weatherapi.com/weather/64x64/night/116.png', 'code': 1003}, 'wind_mph': 8.1, 'wind_kph': 13.0, 'wind_degree': 272, 'wind_dir': 'W', 'pressure_mb': 1002.0, 'pressure_in': 29.6, 'precip_mm': 0.0, 'precip_in': 0.0, 'snow_cm': 0.0, 'humidity': 84, 'cloud': 45, 'feelslike_c': 28.8, 'feelslike_f': 83.8, 'windchill_c': 25.9, 'windchill_f': 78.7, 'heatindex_c': 28.8, 'heatindex_f': 83.8, 'dewpoint_c': 23.0, 'dewpoint_f': 73.3, 'will_it_rain': 0, 'chance_of_rain': 0, 'will_it_snow': 0, 'chance_of_snow': 0, 'vis_km': 10.0, 'vis_miles': 6.0, 'gust_mph': 12.2, 'gust_kph': 19.7, 'uv': 0}, {'time_epoch': 1749677400, 'time': '2025-06-12 03:00', 'temp_c': 25.8, 'temp_f': 78.5, 'is_day': 0, 'condition': {'text': 'Partly Cloudy ', 'icon': '//cdn.weatherapi.com/weather/64x64/night/116.png', 'code': 1003}, 'wind_mph': 9.8, 'wind_kph': 15.8, 'wind_degree': 269, 'wind_dir': 'W', 'pressure_mb': 1002.0, 'pressure_in': 29.6, 'precip_mm': 0.0, 'precip_in': 0.0, 'snow_cm': 0.0, 'humidity': 82, 'cloud': 35, 'feelslike_c': 28.4, 'feelslike_f': 83.1, 'windchill_c': 25.8, 'windchill_f': 78.5, 'heatindex_c': 28.4, 'heatindex_f': 83.1, 'dewpoint_c': 22.4, 'dewpoint_f': 72.4, 'will_it_rain': 0, 'chance_of_rain': 0, 'will_it_snow': 0, 'chance_of_snow': 0, 'vis_km': 10.0, 'vis_miles': 6.0, 'gust_mph': 14.3, 'gust_kph': 23.1, 'uv': 0}, {'time_epoch': 1749681000, 'time': '2025-06-12 04:00', 'temp_c': 25.4, 'temp_f': 77.7, 'is_day': 0, 'condition': {'text': 'Partly Cloudy ', 'icon': '//cdn.weatherapi.com/weather/64x64/night/116.png', 'code': 1003}, 'wind_mph': 8.3, 'wind_kph': 13.3, 'wind_degree': 272, 'wind_dir': 'W', 'pressure_mb': 1003.0, 'pressure_in': 29.62, 'precip_mm': 0.0, 'precip_in': 0.0, 'snow_cm': 0.0, 'humidity': 83, 'cloud': 35, 'feelslike_c': 27.8, 'feelslike_f': 82.1, 'windchill_c': 25.4, 'windchill_f': 77.7, 'heatindex_c': 27.8, 'heatindex_f': 82.1, 'dewpoint_c': 22.3, 'dewpoint_f': 72.1, 'will_it_rain': 0, 'chance_of_rain': 0, 'will_it_snow': 0, 'chance_of_snow': 0, 'vis_km': 10.0, 'vis_miles': 6.0, 'gust_mph': 12.3, 'gust_kph': 19.8, 'uv': 0}, {'time_epoch': 1749684600, 'time': '2025-06-12 05:00', 'temp_c': 25.2, 'temp_f': 77.3, 'is_day': 0, 'condition': {'text': 'Partly Cloudy ', 'icon': '//cdn.weatherapi.com/weather/64x64/night/116.png', 'code': 1003}, 'wind_mph': 5.4, 'wind_kph': 8.6, 'wind_degree': 285, 'wind_dir': 'WNW', 'pressure_mb': 1004.0, 'pressure_in': 29.63, 'precip_mm': 0.0, 'precip_in': 0.0, 'snow_cm': 0.0, 'humidity': 84, 'cloud': 46, 'feelslike_c': 27.6, 'feelslike_f': 81.6, 'windchill_c': 25.2, 'windchill_f': 77.3, 'heatindex_c': 27.6, 'heatindex_f': 81.6, 'dewpoint_c': 22.3, 'dewpoint_f': 72.2, 'will_it_rain': 0, 'chance_of_rain': 0, 'will_it_snow': 0, 'chance_of_snow': 0, 'vis_km': 10.0, 'vis_miles': 6.0, 'gust_mph': 8.4, 'gust_kph': 13.6, 'uv': 0}, {'time_epoch': 1749688200, 'time': '2025-06-12 06:00', 'temp_c': 25.4, 'temp_f': 77.7, 'is_day': 1, 'condition': {'text': 'Partly Cloudy ', 'icon': '//cdn.weatherapi.com/weather/64x64/day/116.png', 'code': 1003}, 'wind_mph': 6.0, 'wind_kph': 9.7, 'wind_degree': 289, 'wind_dir': 'WNW', 'pressure_mb': 1004.0, 'pressure_in': 29.65, 'precip_mm': 0.0, 'precip_in': 0.0, 'snow_cm': 0.0, 'humidity': 84, 'cloud': 28, 'feelslike_c': 27.8, 'feelslike_f': 82.1, 'windchill_c': 25.4, 'windchill_f': 77.7, 'heatindex_c': 27.8, 'heatindex_f': 82.1, 'dewpoint_c': 22.4, 'dewpoint_f': 72.3, 'will_it_rain': 0, 'chance_of_rain': 0, 'will_it_snow': 0, 'chance_of_snow': 0, 'vis_km': 10.0, 'vis_miles': 6.0, 'gust_mph': 9.5, 'gust_kph': 15.3, 'uv': 0.1}, {'time_epoch': 1749691800, 'time': '2025-06-12 07:00', 'temp_c': 26.3, 'temp_f': 79.4, 'is_day': 1, 'condition': {'text': 'Sunny', 'icon': '//cdn.weatherapi.com/weather/64x64/day/113.png', 'code': 1000}, 'wind_mph': 7.2, 'wind_kph': 11.5, 'wind_degree': 285, 'wind_dir': 'WNW', 'pressure_mb': 1005.0, 'pressure_in': 29.67, 'precip_mm': 0.0, 'precip_in': 0.0, 'snow_cm': 0.0, 'humidity': 78, 'cloud': 25, 'feelslike_c': 28.9, 'feelslike_f': 84.0, 'windchill_c': 26.3, 'windchill_f': 79.4, 'heatindex_c': 28.9, 'heatindex_f': 84.0, 'dewpoint_c': 22.2, 'dewpoint_f': 72.0, 'will_it_rain': 0, 'chance_of_rain': 0, 'will_it_snow': 0, 'chance_of_snow': 0, 'vis_km': 10.0, 'vis_miles': 6.0, 'gust_mph': 9.9, 'gust_kph': 15.9, 'uv': 0.5}, {'time_epoch': 1749695400, 'time': '2025-06-12 08:00', 'temp_c': 27.6, 'temp_f': 81.6, 'is_day': 1, 'condition': {'text': 'Partly Cloudy ', 'icon': '//cdn.weatherapi.com/weather/64x64/day/116.png', 'code': 1003}, 'wind_mph': 8.7, 'wind_kph': 14.0, 'wind_degree': 270, 'wind_dir': 'W', 'pressure_mb': 1005.0, 'pressure_in': 29.67, 'precip_mm': 0.0, 'precip_in': 0.0, 'snow_cm': 0.0, 'humidity': 72, 'cloud': 30, 'feelslike_c': 30.3, 'feelslike_f': 86.5, 'windchill_c': 27.6, 'windchill_f': 81.6, 'heatindex_c': 30.3, 'heatindex_f': 86.5, 'dewpoint_c': 22.0, 'dewpoint_f': 71.5, 'will_it_rain': 0, 'chance_of_rain': 0, 'will_it_snow': 0, 'chance_of_snow': 0, 'vis_km': 10.0, 'vis_miles': 6.0, 'gust_mph': 10.5, 'gust_kph': 16.9, 'uv': 2.2}, {'time_epoch': 1749699000, 'time': '2025-06-12 09:00', 'temp_c': 28.7, 'temp_f': 83.6, 'is_day': 1, 'condition': {'text': 'Partly Cloudy ', 'icon': '//cdn.weatherapi.com/weather/64x64/day/116.png', 'code': 1003}, 'wind_mph': 8.3, 'wind_kph': 13.3, 'wind_degree': 268, 'wind_dir': 'W', 'pressure_mb': 1005.0, 'pressure_in': 29.67, 'precip_mm': 0.0, 'precip_in': 0.0, 'snow_cm': 0.0, 'humidity': 66, 'cloud': 32, 'feelslike_c': 31.6, 'feelslike_f': 88.9, 'windchill_c': 28.7, 'windchill_f': 83.6, 'heatindex_c': 31.6, 'heatindex_f': 88.9, 'dewpoint_c': 21.8, 'dewpoint_f': 71.2, 'will_it_rain': 0, 'chance_of_rain': 0, 'will_it_snow': 0, 'chance_of_snow': 0, 'vis_km': 10.0, 'vis_miles': 6.0, 'gust_mph': 9.5, 'gust_kph': 15.3, 'uv': 5.0}, {'time_epoch': 1749702600, 'time': '2025-06-12 10:00', 'temp_c': 30.0, 'temp_f': 85.9, 'is_day': 1, 'condition': {'text': 'Partly Cloudy ', 'icon': '//cdn.weatherapi.com/weather/64x64/day/116.png', 'code': 1003}, 'wind_mph': 8.1, 'wind_kph': 13.0, 'wind_degree': 256, 'wind_dir': 'WSW', 'pressure_mb': 1004.0, 'pressure_in': 29.66, 'precip_mm': 0.0, 'precip_in': 0.0, 'snow_cm': 0.0, 'humidity': 61, 'cloud': 36, 'feelslike_c': 33.2, 'feelslike_f': 91.7, 'windchill_c': 30.0, 'windchill_f': 85.9, 'heatindex_c': 33.2, 'heatindex_f': 91.7, 'dewpoint_c': 21.6, 'dewpoint_f': 70.9, 'will_it_rain': 0, 'chance_of_rain': 0, 'will_it_snow': 0, 'chance_of_snow': 0, 'vis_km': 10.0, 'vis_miles': 6.0, 'gust_mph': 9.3, 'gust_kph': 14.9, 'uv': 7.3}, {'time_epoch': 1749706200, 'time': '2025-06-12 11:00', 'temp_c': 35.1, 'temp_f': 95.2, 'is_day': 1, 'condition': {'text': 'Partly cloudy', 'icon': '//cdn.weatherapi.com/weather/64x64/day/116.png', 'code': 1003}, 'wind_mph': 8.5, 'wind_kph': 13.7, 'wind_degree': 247, 'wind_dir': 'WSW', 'pressure_mb': 1004.0, 'pressure_in': 29.65, 'precip_mm': 0.0, 'precip_in': 0.0, 'snow_cm': 0.0, 'humidity': 47, 'cloud': 50, 'feelslike_c': 34.5, 'feelslike_f': 94.2, 'windchill_c': 31.2, 'windchill_f': 88.1, 'heatindex_c': 34.5, 'heatindex_f': 94.2, 'dewpoint_c': 21.3, 'dewpoint_f': 70.3, 'will_it_rain': 0, 'chance_of_rain': 0, 'will_it_snow': 0, 'chance_of_snow': 0, 'vis_km': 6.0, 'vis_miles': 3.0, 'gust_mph': 9.8, 'gust_kph': 15.7, 'uv': 9.3}, {'time_epoch': 1749709800, 'time': '2025-06-12 12:00', 'temp_c': 31.8, 'temp_f': 89.2, 'is_day': 1, 'condition': {'text': 'Partly Cloudy ', 'icon': '//cdn.weatherapi.com/weather/64x64/day/116.png', 'code': 1003}, 'wind_mph': 9.8, 'wind_kph': 15.8, 'wind_degree': 245, 'wind_dir': 'WSW', 'pressure_mb': 1003.0, 'pressure_in': 29.62, 'precip_mm': 0.0, 'precip_in': 0.0, 'snow_cm': 0.0, 'humidity': 53, 'cloud': 37, 'feelslike_c': 35.0, 'feelslike_f': 95.0, 'windchill_c': 31.8, 'windchill_f': 89.2, 'heatindex_c': 35.0, 'heatindex_f': 95.0, 'dewpoint_c': 20.9, 'dewpoint_f': 69.6, 'will_it_rain': 0, 'chance_of_rain': 0, 'will_it_snow': 0, 'chance_of_snow': 0, 'vis_km': 10.0, 'vis_miles': 6.0, 'gust_mph': 11.3, 'gust_kph': 18.2, 'uv': 9.3}, {'time_epoch': 1749713400, 'time': '2025-06-12 13:00', 'temp_c': 32.1, 'temp_f': 89.7, 'is_day': 1, 'condition': {'text': 'Patchy light drizzle', 'icon': '//cdn.weatherapi.com/weather/64x64/day/263.png', 'code': 1150}, 'wind_mph': 10.7, 'wind_kph': 17.3, 'wind_degree': 240, 'wind_dir': 'WSW', 'pressure_mb': 1002.0, 'pressure_in': 29.6, 'precip_mm': 0.2, 'precip_in': 0.01, 'snow_cm': 0.0, 'humidity': 51, 'cloud': 69, 'feelslike_c': 35.2, 'feelslike_f': 95.3, 'windchill_c': 32.1, 'windchill_f': 89.7, 'heatindex_c': 35.2, 'heatindex_f': 95.3, 'dewpoint_c': 20.6, 'dewpoint_f': 69.1, 'will_it_rain': 1, 'chance_of_rain': 100, 'will_it_snow': 0, 'chance_of_snow': 0, 'vis_km': 5.0, 'vis_miles': 3.0, 'gust_mph': 12.3, 'gust_kph': 19.9, 'uv': 8.3}, {'time_epoch': 1749717000, 'time': '2025-06-12 14:00', 'temp_c': 32.4, 'temp_f': 90.3, 'is_day': 1, 'condition': {'text': 'Partly Cloudy ', 'icon': '//cdn.weatherapi.com/weather/64x64/day/116.png', 'code': 1003}, 'wind_mph': 11.9, 'wind_kph': 19.1, 'wind_degree': 238, 'wind_dir': 'WSW', 'pressure_mb': 1002.0, 'pressure_in': 29.58, 'precip_mm': 0.0, 'precip_in': 0.0, 'snow_cm': 0.0, 'humidity': 50, 'cloud': 55, 'feelslike_c': 35.5, 'feelslike_f': 95.8, 'windchill_c': 32.4, 'windchill_f': 90.2, 'heatindex_c': 35.5, 'heatindex_f': 95.8, 'dewpoint_c': 20.5, 'dewpoint_f': 68.8, 'will_it_rain': 0, 'chance_of_rain': 0, 'will_it_snow': 0, 'chance_of_snow': 0, 'vis_km': 10.0, 'vis_miles': 6.0, 'gust_mph': 13.6, 'gust_kph': 22.0, 'uv': 7.1}, {'time_epoch': 1749720600, 'time': '2025-06-12 15:00', 'temp_c': 32.0, 'temp_f': 89.6, 'is_day': 1, 'condition': {'text': 'Patchy rain nearby', 'icon': '//cdn.weatherapi.com/weather/64x64/day/176.png', 'code': 1063}, 'wind_mph': 13.6, 'wind_kph': 22.0, 'wind_degree': 235, 'wind_dir': 'SW', 'pressure_mb': 1001.0, 'pressure_in': 29.57, 'precip_mm': 0.05, 'precip_in': 0.0, 'snow_cm': 0.0, 'humidity': 50, 'cloud': 82, 'feelslike_c': 34.9, 'feelslike_f': 94.7, 'windchill_c': 32.0, 'windchill_f': 89.6, 'heatindex_c': 34.9, 'heatindex_f': 94.7, 'dewpoint_c': 20.3, 'dewpoint_f': 68.5, 'will_it_rain': 1, 'chance_of_rain': 100, 'will_it_snow': 0, 'chance_of_snow': 0, 'vis_km': 10.0, 'vis_miles': 6.0, 'gust_mph': 15.7, 'gust_kph': 25.3, 'uv': 3.7}, {'time_epoch': 1749724200, 'time': '2025-06-12 16:00', 'temp_c': 31.1, 'temp_f': 87.9, 'is_day': 1, 'condition': {'text': 'Partly Cloudy ', 'icon': '//cdn.weatherapi.com/weather/64x64/day/116.png', 'code': 1003}, 'wind_mph': 14.3, 'wind_kph': 23.0, 'wind_degree': 237, 'wind_dir': 'WSW', 'pressure_mb': 1002.0, 'pressure_in': 29.58, 'precip_mm': 0.0, 'precip_in': 0.0, 'snow_cm': 0.0, 'humidity': 53, 'cloud': 38, 'feelslike_c': 33.8, 'feelslike_f': 92.8, 'windchill_c': 31.1, 'windchill_f': 87.9, 'heatindex_c': 33.8, 'heatindex_f': 92.8, 'dewpoint_c': 20.4, 'dewpoint_f': 68.7, 'will_it_rain': 0, 'chance_of_rain': 0, 'will_it_snow': 0, 'chance_of_snow': 0, 'vis_km': 10.0, 'vis_miles': 6.0, 'gust_mph': 17.7, 'gust_kph': 28.5, 'uv': 1.6}, {'time_epoch': 1749727800, 'time': '2025-06-12 17:00', 'temp_c': 30.1, 'temp_f': 86.2, 'is_day': 1, 'condition': {'text': 'Partly Cloudy ', 'icon': '//cdn.weatherapi.com/weather/64x64/day/116.png', 'code': 1003}, 'wind_mph': 13.9, 'wind_kph': 22.3, 'wind_degree': 234, 'wind_dir': 'SW', 'pressure_mb': 1002.0, 'pressure_in': 29.59, 'precip_mm': 0.0, 'precip_in': 0.0, 'snow_cm': 0.0, 'humidity': 56, 'cloud': 39, 'feelslike_c': 32.6, 'feelslike_f': 90.7, 'windchill_c': 30.1, 'windchill_f': 86.2, 'heatindex_c': 32.6, 'heatindex_f': 90.7, 'dewpoint_c': 20.3, 'dewpoint_f': 68.6, 'will_it_rain': 0, 'chance_of_rain': 0, 'will_it_snow': 0, 'chance_of_snow': 0, 'vis_km': 10.0, 'vis_miles': 6.0, 'gust_mph': 18.0, 'gust_kph': 28.9, 'uv': 0.5}, {'time_epoch': 1749731400, 'time': '2025-06-12 18:00', 'temp_c': 28.6, 'temp_f': 83.5, 'is_day': 1, 'condition': {'text': 'Partly Cloudy ', 'icon': '//cdn.weatherapi.com/weather/64x64/day/116.png', 'code': 1003}, 'wind_mph': 11.9, 'wind_kph': 19.1, 'wind_degree': 227, 'wind_dir': 'SW', 'pressure_mb': 1003.0, 'pressure_in': 29.62, 'precip_mm': 0.0, 'precip_in': 0.0, 'snow_cm': 0.0, 'humidity': 61, 'cloud': 28, 'feelslike_c': 30.8, 'feelslike_f': 87.5, 'windchill_c': 28.6, 'windchill_f': 83.5, 'heatindex_c': 30.8, 'heatindex_f': 87.5, 'dewpoint_c': 20.4, 'dewpoint_f': 68.7, 'will_it_rain': 0, 'chance_of_rain': 0, 'will_it_snow': 0, 'chance_of_snow': 0, 'vis_km': 10.0, 'vis_miles': 6.0, 'gust_mph': 16.9, 'gust_kph': 27.2, 'uv': 0.0}, {'time_epoch': 1749735000, 'time': '2025-06-12 19:00', 'temp_c': 27.7, 'temp_f': 81.9, 'is_day': 0, 'condition': {'text': 'Clear ', 'icon': '//cdn.weatherapi.com/weather/64x64/night/113.png', 'code': 1000}, 'wind_mph': 10.7, 'wind_kph': 17.3, 'wind_degree': 229, 'wind_dir': 'SW', 'pressure_mb': 1004.0, 'pressure_in': 29.65, 'precip_mm': 0.0, 'precip_in': 0.0, 'snow_cm': 0.0, 'humidity': 65, 'cloud': 25, 'feelslike_c': 29.9, 'feelslike_f': 85.7, 'windchill_c': 27.7, 'windchill_f': 81.9, 'heatindex_c': 29.9, 'heatindex_f': 85.7, 'dewpoint_c': 20.5, 'dewpoint_f': 68.9, 'will_it_rain': 0, 'chance_of_rain': 0, 'will_it_snow': 0, 'chance_of_snow': 0, 'vis_km': 10.0, 'vis_miles': 6.0, 'gust_mph': 15.5, 'gust_kph': 25.0, 'uv': 0}, {'time_epoch': 1749738600, 'time': '2025-06-12 20:00', 'temp_c': 27.3, 'temp_f': 81.2, 'is_day': 0, 'condition': {'text': 'Patchy rain nearby', 'icon': '//cdn.weatherapi.com/weather/64x64/night/176.png', 'code': 1063}, 'wind_mph': 9.8, 'wind_kph': 15.8, 'wind_degree': 241, 'wind_dir': 'WSW', 'pressure_mb': 1005.0, 'pressure_in': 29.67, 'precip_mm': 0.04, 'precip_in': 0.0, 'snow_cm': 0.0, 'humidity': 67, 'cloud': 77, 'feelslike_c': 29.4, 'feelslike_f': 84.9, 'windchill_c': 27.3, 'windchill_f': 81.2, 'heatindex_c': 29.4, 'heatindex_f': 84.9, 'dewpoint_c': 20.6, 'dewpoint_f': 69.1, 'will_it_rain': 1, 'chance_of_rain': 72, 'will_it_snow': 0, 'chance_of_snow': 0, 'vis_km': 10.0, 'vis_miles': 6.0, 'gust_mph': 14.5, 'gust_kph': 23.3, 'uv': 0}, {'time_epoch': 1749742200, 'time': '2025-06-12 21:00', 'temp_c': 27.1, 'temp_f': 80.8, 'is_day': 0, 'condition': {'text': 'Partly Cloudy ', 'icon': '//cdn.weatherapi.com/weather/64x64/night/116.png', 'code': 1003}, 'wind_mph': 8.7, 'wind_kph': 14.0, 'wind_degree': 253, 'wind_dir': 'WSW', 'pressure_mb': 1005.0, 'pressure_in': 29.69, 'precip_mm': 0.0, 'precip_in': 0.0, 'snow_cm': 0.0, 'humidity': 68, 'cloud': 28, 'feelslike_c': 29.1, 'feelslike_f': 84.4, 'windchill_c': 27.1, 'windchill_f': 80.8, 'heatindex_c': 29.1, 'heatindex_f': 84.4, 'dewpoint_c': 20.6, 'dewpoint_f': 69.0, 'will_it_rain': 0, 'chance_of_rain': 0, 'will_it_snow': 0, 'chance_of_snow': 0, 'vis_km': 10.0, 'vis_miles': 6.0, 'gust_mph': 12.9, 'gust_kph': 20.8, 'uv': 0}, {'time_epoch': 1749745800, 'time': '2025-06-12 22:00', 'temp_c': 26.8, 'temp_f': 80.3, 'is_day': 0, 'condition': {'text': 'Patchy rain nearby', 'icon': '//cdn.weatherapi.com/weather/64x64/night/176.png', 'code': 1063}, 'wind_mph': 8.1, 'wind_kph': 13.0, 'wind_degree': 256, 'wind_dir': 'WSW', 'pressure_mb': 1006.0, 'pressure_in': 29.69, 'precip_mm': 0.02, 'precip_in': 0.0, 'snow_cm': 0.0, 'humidity': 69, 'cloud': 74, 'feelslike_c': 28.9, 'feelslike_f': 83.9, 'windchill_c': 26.8, 'windchill_f': 80.3, 'heatindex_c': 28.9, 'heatindex_f': 83.9, 'dewpoint_c': 20.6, 'dewpoint_f': 69.2, 'will_it_rain': 1, 'chance_of_rain': 71, 'will_it_snow': 0, 'chance_of_snow': 0, 'vis_km': 10.0, 'vis_miles': 6.0, 'gust_mph': 12.2, 'gust_kph': 19.6, 'uv': 0}, {'time_epoch': 1749749400, 'time': '2025-06-12 23:00', 'temp_c': 26.6, 'temp_f': 79.9, 'is_day': 0, 'condition': {'text': 'Partly Cloudy ', 'icon': '//cdn.weatherapi.com/weather/64x64/night/116.png', 'code': 1003}, 'wind_mph': 7.4, 'wind_kph': 11.9, 'wind_degree': 262, 'wind_dir': 'W', 'pressure_mb': 1006.0, 'pressure_in': 29.69, 'precip_mm': 0.0, 'precip_in': 0.0, 'snow_cm': 0.0, 'humidity': 70, 'cloud': 54, 'feelslike_c': 28.7, 'feelslike_f': 83.6, 'windchill_c': 26.6, 'windchill_f': 79.9, 'heatindex_c': 28.7, 'heatindex_f': 83.6, 'dewpoint_c': 20.8, 'dewpoint_f': 69.4, 'will_it_rain': 0, 'chance_of_rain': 0, 'will_it_snow': 0, 'chance_of_snow': 0, 'vis_km': 10.0, 'vis_miles': 6.0, 'gust_mph': 11.3, 'gust_kph': 18.1, 'uv': 0}]}]}}\n",
      "==================================\u001b[1m Ai Message \u001b[0m==================================\n",
      "\n",
      "Here's a detailed summary of the weather forecast for Madurai, India on June 12, 2025:\n",
      "\n",
      "**Current Conditions (as of 11:00 AM local time):**\n",
      "\n",
      "*   **Temperature:** 35.1°C (95.2°F), but it feels like 43.6°C (110.4°F) due to the heat index. Be cautious of heat-related issues.\n",
      "*   **Condition:** Partly cloudy.\n",
      "*   **Wind:** Moderate winds from the West-Southwest at 13.7 km/h (8.5 mph), with gusts up to 15.7 km/h (9.8 mph).\n",
      "*   **Humidity:** 47%\n",
      "*   **Pressure:** 1004 mb\n",
      "*   **Visibility:** Reduced visibility at 6 km (3 miles).\n",
      "*   **UV Index:** Very high at 9.3. Sun protection is essential.\n",
      "\n",
      "**Forecast for the Rest of the Day (June 12, 2025):**\n",
      "\n",
      "*   **Overall:** Expect a mix of partly cloudy conditions and a high chance of rain (85%). There's a possibility of \"patchy rain nearby\".\n",
      "*   **Temperature:**\n",
      "    *   Maximum temperature of 32.4°C (90.3°F).\n",
      "    *   Minimum temperature of 25.2°C (77.3°F).\n",
      "    *   Average temperature of 28.2°C (82.7°F).\n",
      "*   **Wind:** Maximum wind speeds reaching 23.0 km/h (14.3 mph).\n",
      "*   **Precipitation:** A small amount of rain is expected, with a total of 0.33mm (0.01 inches) for the day.\n",
      "*   **Humidity:** Average humidity of 68%.\n",
      "*   **UV Index:** Lower UV index of 2.3 for the day.\n",
      "*   **Daytime:** The temperature will peak around 32.4°C (90.3°F) in the early afternoon, feeling like 35.5°C (95.8°F). Winds will be stronger from the WSW. There is a 100% chance of patchy light drizzle around 1 PM and patchy rain nearby around 3 PM.\n",
      "*   **Evening/Night:** Temperatures will gradually decrease, with a chance of patchy rain nearby in the early evening. The wind will decrease and shift from WSW to W.\n",
      "\n",
      "**Additional Information:**\n",
      "\n",
      "*   **Sunrise:** 05:57 AM\n",
      "*   **Sunset:** 06:38 PM\n",
      "*   **Moon Phase:** Waning Gibbous with 99% illumination, meaning it will appear very full. The moon will be up for most of the night.\n",
      "\n",
      "**In summary:** Be prepared for a hot and humid day with partly cloudy skies and a high likelihood of scattered showers or rain. The UV index is very high during the day, so take precautions.\n",
      "==================================\u001b[1m Ai Message \u001b[0m==================================\n",
      "\n",
      "Okay, here's how you should plan your day in Madurai on June 12, 2025, based on the weather report:\n",
      "\n",
      "**Key Considerations:**\n",
      "\n",
      "*   **Heat & Humidity:** The \"feels like\" temperature is significantly higher than the actual temperature, especially in the morning.  The average humidity is also high.\n",
      "*   **High Chance of Rain:** An 85% chance of rain means you should definitely be prepared for it.\n",
      "*   **Stronger Winds:** Expect moderate to strong winds, especially during the afternoon.\n",
      "*   **Very High UV Index (Morning):** Sun protection is crucial in the morning.\n",
      "\n",
      "**Here's a suggested plan:**\n",
      "\n",
      "*   **Morning (Until Noon):**\n",
      "    *   **Limit Outdoor Activities:** Due to the high \"feels like\" temperature and very high UV index, try to minimize prolonged exposure to the sun.\n",
      "    *   **Sun Protection is a Must:** If you must be outside, wear sunscreen (SPF 30 or higher), a wide-brimmed hat, and sunglasses. Seek shade whenever possible.\n",
      "    *   **Hydration:** Drink plenty of water to stay hydrated and avoid heatstroke.\n",
      "    *   **Plan Indoor Activities:** Consider indoor activities like visiting a museum, shopping, or relaxing at home.\n",
      "\n",
      "*   **Afternoon (Noon - 6 PM):**\n",
      "    *   **Prepare for Rain:** Carry an umbrella or raincoat, as there's a high probability of patchy rain.\n",
      "    *   **Wind Considerations:** Be aware of the stronger winds, especially if you're walking or cycling.\n",
      "    *   **Continue Hydrating:** Even with the rain, it will likely still be humid, so keep drinking water.\n",
      "    *   **Check for Updates:** Keep an eye on local weather updates, as the timing and intensity of the rain could change.\n",
      "\n",
      "*   **Evening/Night (6 PM Onward):**\n",
      "    *   **Potential for Lingering Showers:** The chance of rain decreases, but there's still a possibility of patchy rain nearby.\n",
      "    *   **Enjoy the Full Moon:** The moon will be nearly full and very bright, so it could be a nice evening for a walk (if the rain stays away).\n",
      "    *   **Cooler Temperatures:** Temperatures will gradually decrease, making it more comfortable to be outside.\n",
      "\n",
      "**Specific Recommendations:**\n",
      "\n",
      "*   **Outdoor Activities:** If you *must* be outdoors, the late afternoon or early evening might be the best time, but be prepared for rain.\n",
      "*   **Travel:** Be cautious when driving, especially if there's heavy rain and reduced visibility.\n",
      "*   **Clothing:** Wear light, breathable clothing to help you stay cool.\n",
      "*   **Vulnerable Individuals:**  The elderly, young children, and people with chronic health conditions should be extra careful to avoid heat-related illnesses.\n",
      "\n",
      "**In short: Stay cool, stay hydrated, protect yourself from the sun (especially in the morning), and be prepared for rain throughout the day.**\n"
     ]
    },
    {
     "data": {
      "text/plain": [
       "'Okay, here\\'s how you should plan your day in Madurai on June 12, 2025, based on the weather report:\\n\\n**Key Considerations:**\\n\\n*   **Heat & Humidity:** The \"feels like\" temperature is significantly higher than the actual temperature, especially in the morning.  The average humidity is also high.\\n*   **High Chance of Rain:** An 85% chance of rain means you should definitely be prepared for it.\\n*   **Stronger Winds:** Expect moderate to strong winds, especially during the afternoon.\\n*   **Very High UV Index (Morning):** Sun protection is crucial in the morning.\\n\\n**Here\\'s a suggested plan:**\\n\\n*   **Morning (Until Noon):**\\n    *   **Limit Outdoor Activities:** Due to the high \"feels like\" temperature and very high UV index, try to minimize prolonged exposure to the sun.\\n    *   **Sun Protection is a Must:** If you must be outside, wear sunscreen (SPF 30 or higher), a wide-brimmed hat, and sunglasses. Seek shade whenever possible.\\n    *   **Hydration:** Drink plenty of water to stay hydrated and avoid heatstroke.\\n    *   **Plan Indoor Activities:** Consider indoor activities like visiting a museum, shopping, or relaxing at home.\\n\\n*   **Afternoon (Noon - 6 PM):**\\n    *   **Prepare for Rain:** Carry an umbrella or raincoat, as there\\'s a high probability of patchy rain.\\n    *   **Wind Considerations:** Be aware of the stronger winds, especially if you\\'re walking or cycling.\\n    *   **Continue Hydrating:** Even with the rain, it will likely still be humid, so keep drinking water.\\n    *   **Check for Updates:** Keep an eye on local weather updates, as the timing and intensity of the rain could change.\\n\\n*   **Evening/Night (6 PM Onward):**\\n    *   **Potential for Lingering Showers:** The chance of rain decreases, but there\\'s still a possibility of patchy rain nearby.\\n    *   **Enjoy the Full Moon:** The moon will be nearly full and very bright, so it could be a nice evening for a walk (if the rain stays away).\\n    *   **Cooler Temperatures:** Temperatures will gradually decrease, making it more comfortable to be outside.\\n\\n**Specific Recommendations:**\\n\\n*   **Outdoor Activities:** If you *must* be outdoors, the late afternoon or early evening might be the best time, but be prepared for rain.\\n*   **Travel:** Be cautious when driving, especially if there\\'s heavy rain and reduced visibility.\\n*   **Clothing:** Wear light, breathable clothing to help you stay cool.\\n*   **Vulnerable Individuals:**  The elderly, young children, and people with chronic health conditions should be extra careful to avoid heat-related illnesses.\\n\\n**In short: Stay cool, stay hydrated, protect yourself from the sun (especially in the morning), and be prepared for rain throughout the day.**'"
      ]
     },
     "execution_count": 13,
     "metadata": {},
     "output_type": "execute_result"
    }
   ],
   "source": [
    "res = chain.invoke(\"Madurai\")\n",
    "res"
   ]
  },
  {
   "cell_type": "code",
   "execution_count": 14,
   "id": "42951213",
   "metadata": {},
   "outputs": [],
   "source": [
    "with open(\"../textFiles/weather.txt\", \"w\") as f:\n",
    "    f.write(res)"
   ]
  },
  {
   "cell_type": "code",
   "execution_count": null,
   "id": "7f554119",
   "metadata": {},
   "outputs": [],
   "source": []
  }
 ],
 "metadata": {
  "kernelspec": {
   "display_name": "venv",
   "language": "python",
   "name": "python3"
  },
  "language_info": {
   "codemirror_mode": {
    "name": "ipython",
    "version": 3
   },
   "file_extension": ".py",
   "mimetype": "text/x-python",
   "name": "python",
   "nbconvert_exporter": "python",
   "pygments_lexer": "ipython3",
   "version": "3.10.7"
  }
 },
 "nbformat": 4,
 "nbformat_minor": 5
}
