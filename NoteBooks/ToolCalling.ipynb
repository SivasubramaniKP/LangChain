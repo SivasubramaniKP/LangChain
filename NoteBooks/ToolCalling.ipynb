{
 "cells": [
  {
   "cell_type": "code",
   "execution_count": 30,
   "id": "6ce44913",
   "metadata": {},
   "outputs": [],
   "source": [
    "\n",
    "from __future__ import print_function\n",
    "from langchain_core.tools import tool\n",
    "from langchain.chat_models import init_chat_model\n",
    "model = init_chat_model(\"gemini-2.0-flash\",model_provider=\"google_genai\")"
   ]
  },
  {
   "cell_type": "code",
   "execution_count": 31,
   "id": "a0c92217",
   "metadata": {},
   "outputs": [],
   "source": [
    "\n",
    "def getSuggestions(weatherSummary):\n",
    "    \"\"\"\n",
    "        To produce suggestions for user based on current weather report\n",
    "    Args:\n",
    "        weatherSummary : Detailed weather report\n",
    "    \"\"\"\n",
    "    from langchain_core.prompts import ChatPromptTemplate\n",
    "    prompt_template = ChatPromptTemplate([\n",
    "        (\"system\", \"You are given weather report, Tell the user how to plan their day accordingly\"),\n",
    "        (\"user\", \"Make suggestions for this report {weatherSummary}\")\n",
    "    ])\n",
    "\n",
    "    prompt = prompt_template.invoke({\n",
    "        \"weatherSummary\" : weatherSummary\n",
    "    })\n",
    "\n",
    "    res = model.invoke(prompt)\n",
    "    return res.content \n"
   ]
  },
  {
   "cell_type": "code",
   "execution_count": 32,
   "id": "d299ebf3",
   "metadata": {},
   "outputs": [],
   "source": [
    "def getWeatherInfo(city: str) -> any:\n",
    "    \"\"\"\n",
    "        To get the weather info in the given city\n",
    "\n",
    "    Args:\n",
    "        city : CIty in which the weather report to be fetched\n",
    "    \"\"\"\n",
    "    \n",
    "    import time\n",
    "    import weatherapi\n",
    "    from weatherapi.rest import ApiException\n",
    "    from pprint import pprint\n",
    "    import datetime\n",
    "\n",
    "    currentDate = datetime.date.today()\n",
    "    formatted_date = currentDate.strftime(\"%Y-%m-%d\")\n",
    "    # Configure API key authorization: ApiKeyAuth\n",
    "    configuration = weatherapi.Configuration()\n",
    "    configuration.api_key['key'] = 'e00b8e34d43b4cbea5380937250906'\n",
    "    # Uncomment below to setup prefix (e.g. Bearer) for API key, if needed\n",
    "    # configuration.api_key_prefix['key'] = 'Bearer'\n",
    "\n",
    "    # create an instance of the API class\n",
    "    api_instance = weatherapi.APIsApi(weatherapi.ApiClient(configuration))\n",
    "    q = city\n",
    "    dt = \"2025-06-11\" \n",
    "\n",
    "    try:\n",
    "        # Astronomy API\n",
    "        api_response = api_instance.forecast_weather(q, dt)\n",
    "        return (api_response)\n",
    "    except ApiException as e:\n",
    "        print(\"Exception when calling APIsApi->astronomy: %s\\n\" % e)"
   ]
  },
  {
   "cell_type": "code",
   "execution_count": 33,
   "id": "e7b291db",
   "metadata": {},
   "outputs": [],
   "source": [
    "from langchain_core.prompts import ChatPromptTemplate\n",
    "\n",
    "def makeWeatherReport(weatherReport):\n",
    "    \"\"\"\n",
    "        Based on JSON provided by weather API\n",
    "        to generate a detailed overview of the climate\n",
    "    Args:\n",
    "        weatherReport: JSON file containing all the weather details\n",
    "    \"\"\"\n",
    "    prompt_template = ChatPromptTemplate([\n",
    "        (\"system\", \"You are a weather man. You will given a detailed JSON weather report. Summarize the important and significant points in detail\"),\n",
    "        (\"user\", \"Give me weather report for {weatherJSON}\")\n",
    "    ]) \n",
    "    prompt = prompt_template.invoke({\n",
    "        \"weatherJSON\" : weatherReport\n",
    "    })\n",
    "    response = model.invoke(prompt)\n",
    "    return response.content"
   ]
  },
  {
   "cell_type": "code",
   "execution_count": 34,
   "id": "45e769e5",
   "metadata": {},
   "outputs": [],
   "source": [
    "from langchain_core.runnables import RunnableSequence\n",
    "from langchain_core.runnables import RunnableLambda\n",
    "chain = RunnableLambda(getWeatherInfo) | RunnableLambda(makeWeatherReport) | RunnableLambda(getSuggestions)"
   ]
  },
  {
   "cell_type": "code",
   "execution_count": 35,
   "id": "248867a9",
   "metadata": {},
   "outputs": [
    {
     "data": {
      "text/plain": [
       "'Okay, here\\'s how to plan your day in Madurai on June 11, 2025, based on this weather report:\\n\\n**Overall:** Be prepared for a day with a high chance of rain and moderately gusty winds. The \"feels like\" temperature will be higher than the actual temperature during the day, so take precautions to avoid heat exhaustion.\\n\\n**Morning (Until around Noon):**\\n\\n*   **Clothing:** Wear light, breathable clothing. Since there\\'s a chance of rain, consider clothing that dries quickly.\\n*   **Activities:** If you have outdoor plans, be flexible. Carry an umbrella or raincoat.  If possible, schedule outdoor activities for the morning when the \"feels like\" temperature isn\\'t at its peak.\\n*   **Sun Protection:** Even with partly cloudy conditions, apply sunscreen, especially if you\\'ll be outside during the late morning as the UV index will be moderate. Wear sunglasses and a hat.\\n*   **Hydration:** Drink plenty of water throughout the morning to stay hydrated, especially before the \"feels like\" temperature rises.\\n\\n**Afternoon (Noon to Sunset):**\\n\\n*   **Heat Precautions:** This is the hottest part of the day. Limit strenuous outdoor activities. Seek shade whenever possible.\\n*   **Clothing:** Continue wearing light, breathable clothing.\\n*   **Rain Gear:** Keep your umbrella or raincoat handy, as patchy rain is expected.\\n*   **Activities:** Consider indoor activities during the peak heat. Museums, shopping malls, or a relaxing lunch indoors are good options.\\n*   **Hydration:** Continue drinking plenty of water.\\n*   **Driving/Travel:** Be cautious while driving, especially if it\\'s raining. Reduce your speed and increase your following distance.\\n\\n**Evening/Night:**\\n\\n*   **Rain Gear:** Keep your umbrella or raincoat with you early in the evening as there\\'s still a high chance of rain.\\n*   **Outdoor Activities:** If the rain clears up later in the night, enjoying the full moon could be pleasant.\\n*   **Temperature:**  The temperature will gradually decrease, so you might want a light jacket or shawl later in the evening.\\n\\n**Specific Recommendations:**\\n\\n*   **Errands:** If you need to run errands, try to do them in the morning or evening to avoid the peak heat of the afternoon.\\n*   **Outdoor Exercise:** If you plan to exercise outdoors, do it early in the morning or late in the evening when it\\'s cooler.\\n*   **Stay Informed:** Keep an eye on local weather updates in case the forecast changes.\\n\\n**In summary, plan for a day of potential rain, moderate winds, and high \"feels like\" temperatures. Stay hydrated, protect yourself from the sun and heat, and be flexible with your plans.**'"
      ]
     },
     "execution_count": 35,
     "metadata": {},
     "output_type": "execute_result"
    }
   ],
   "source": [
    "res = chain.invoke(\"Madurai\")\n",
    "res"
   ]
  },
  {
   "cell_type": "code",
   "execution_count": 36,
   "id": "42951213",
   "metadata": {},
   "outputs": [],
   "source": [
    "with open(\"../textFiles/weather.txt\", \"w\") as f:\n",
    "    f.write(res)"
   ]
  },
  {
   "cell_type": "code",
   "execution_count": null,
   "id": "7f554119",
   "metadata": {},
   "outputs": [],
   "source": []
  }
 ],
 "metadata": {
  "kernelspec": {
   "display_name": "venv",
   "language": "python",
   "name": "python3"
  },
  "language_info": {
   "codemirror_mode": {
    "name": "ipython",
    "version": 3
   },
   "file_extension": ".py",
   "mimetype": "text/x-python",
   "name": "python",
   "nbconvert_exporter": "python",
   "pygments_lexer": "ipython3",
   "version": "3.10.7"
  }
 },
 "nbformat": 4,
 "nbformat_minor": 5
}
