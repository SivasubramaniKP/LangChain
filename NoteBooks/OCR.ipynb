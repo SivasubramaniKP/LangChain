{
 "cells": [
  {
   "cell_type": "code",
   "execution_count": null,
   "id": "bf9f606c",
   "metadata": {},
   "outputs": [
    {
     "name": "stderr",
     "output_type": "stream",
     "text": [
      "Neither CUDA nor MPS are available - defaulting to CPU. Note: This module is much faster with a GPU.\n",
      "Downloading recognition model, please wait. This may take several minutes depending upon your network connection.\n"
     ]
    },
    {
     "name": "stdout",
     "output_type": "stream",
     "text": [
      "Progress: |██████████████████████████████████████████████████| 100.0% Complete"
     ]
    }
   ],
   "source": [
    "import easyocr\n",
    "reader = easyocr.Reader(['en']) # this needs to run only once to load the model into memory"
   ]
  },
  {
   "cell_type": "code",
   "execution_count": 2,
   "id": "8012c939",
   "metadata": {},
   "outputs": [
    {
     "name": "stderr",
     "output_type": "stream",
     "text": [
      "d:\\INtern\\LangChain\\venv\\lib\\site-packages\\torch\\utils\\data\\dataloader.py:665: UserWarning: 'pin_memory' argument is set as true but no accelerator is found, then device pinned memory won't be used.\n",
      "  warnings.warn(warn_msg)\n"
     ]
    },
    {
     "data": {
      "text/plain": [
       "['الاطلازااد التدرالا ركدهه',\n",
       " 'فتا سور اقاي',\n",
       " 'النك زالفد هذاقدهلاانقدآدتنضلد فدااً',\n",
       " 'بتا قس حقفة',\n",
       " 'بكدانمات ارسخربوا روانامد تارفان',\n",
       " 'هررالسبفآنت مازكجيله',\n",
       " 'بزاماردبتام فاًر',\n",
       " 'باارولتى دنة وته جالسدالأبة زلك',\n",
       " 'ودسمدااللجج بافكشة',\n",
       " 'افلكذد دورقتص ا ايزللبالدجت',\n",
       " 'لكوا دنبكنة رمبد اولادجاطامبلن',\n",
       " 'طراع الايد دم زاعالمآنملان',\n",
       " 'رهن رند ززلاوآ رارل رشناززانهنت ^',\n",
       " 'رخجش الزيه وان رد تكالاًنكنت',\n",
       " 'ذالنندالسابد نمللاقاردبورفل هدالانجييل',\n",
       " 'ركالبجل مللكدة بجردالالاعكنتته']"
      ]
     },
     "execution_count": 2,
     "metadata": {},
     "output_type": "execute_result"
    }
   ],
   "source": [
    "result = reader.readtext('../Images/Arabic/pic1.png', detail = 0)\n",
    "result\n"
   ]
  },
  {
   "cell_type": "code",
   "execution_count": 3,
   "id": "105ca536",
   "metadata": {},
   "outputs": [],
   "source": [
    "from langchain.chat_models import init_chat_model\n",
    "model = init_chat_model(\"gemini-2.0-flash\", model_provider=\"google_genai\")"
   ]
  },
  {
   "cell_type": "code",
   "execution_count": 4,
   "id": "f2403584",
   "metadata": {},
   "outputs": [],
   "source": [
    "from typing import *\n",
    "class Question(TypedDict):\n",
    "    text : str\n",
    "    marks : int"
   ]
  },
  {
   "cell_type": "code",
   "execution_count": 5,
   "id": "64056029",
   "metadata": {},
   "outputs": [],
   "source": [
    "from pydantic import BaseModel, Field\n",
    "class ResponseFormatter(BaseModel):\n",
    "    extractedQuestions : List[dict[str, str]] = Field(description=\"\"\"From the given list of words extracted from OCR, return the list of Questions similar Question Objects. The Question objects is defined class Question(TypedDict):\n",
    "    text : str\n",
    "    marks : int \n",
    "        \n",
    "    \"\"\")"
   ]
  },
  {
   "cell_type": "code",
   "execution_count": 6,
   "id": "d22becec",
   "metadata": {},
   "outputs": [],
   "source": [
    "model_with_tools = model.bind_tools([ResponseFormatter])\n",
    "response = model_with_tools.invoke(str(result))\n",
    "Questions = response.tool_calls[0][\"args\"][\"extractedQuestions\"]"
   ]
  },
  {
   "cell_type": "code",
   "execution_count": 7,
   "id": "974ca9da",
   "metadata": {},
   "outputs": [],
   "source": [
    "from langchain_core.prompts import ChatPromptTemplate\n",
    "\n",
    "prompt_template = ChatPromptTemplate([\n",
    "    (\"system\", \"\"\" \n",
    "        You are going to answer theory questions in an exam\n",
    "        Dont use any pronouns. Write as if you write in an exam with question numbers\n",
    "        Answer these questions with clarity and simple terms\n",
    "        And remember for 2 mark questions write in 4 points\n",
    "        3 marks - 6 points\n",
    "        4 - 8 points(about a page)\n",
    "        5 - 10 points\n",
    "        10 - content that fills 2 pages\n",
    "\n",
    "     provide example for each question if possible\n",
    "    \"\"\"),\n",
    "    (\"user\", \"Answer the question {question} with question Number {questionId} for {mark} marks\")\n",
    "])\n"
   ]
  },
  {
   "cell_type": "code",
   "execution_count": 8,
   "id": "fae663c5",
   "metadata": {},
   "outputs": [
    {
     "data": {
      "text/plain": [
       "''"
      ]
     },
     "execution_count": 8,
     "metadata": {},
     "output_type": "execute_result"
    }
   ],
   "source": [
    "response.content"
   ]
  },
  {
   "cell_type": "code",
   "execution_count": null,
   "id": "137e31c9",
   "metadata": {},
   "outputs": [],
   "source": []
  },
  {
   "cell_type": "code",
   "execution_count": 9,
   "id": "3c778c44",
   "metadata": {},
   "outputs": [
    {
     "name": "stderr",
     "output_type": "stream",
     "text": [
      "Retrying langchain_google_genai.chat_models._chat_with_retry.<locals>._chat_with_retry in 2.0 seconds as it raised ResourceExhausted: 429 You exceeded your current quota, please check your plan and billing details. For more information on this error, head to: https://ai.google.dev/gemini-api/docs/rate-limits. [violations {\n",
      "  quota_metric: \"generativelanguage.googleapis.com/generate_content_free_tier_requests\"\n",
      "  quota_id: \"GenerateRequestsPerMinutePerProjectPerModel-FreeTier\"\n",
      "  quota_dimensions {\n",
      "    key: \"model\"\n",
      "    value: \"gemini-2.0-flash\"\n",
      "  }\n",
      "  quota_dimensions {\n",
      "    key: \"location\"\n",
      "    value: \"global\"\n",
      "  }\n",
      "  quota_value: 15\n",
      "}\n",
      ", links {\n",
      "  description: \"Learn more about Gemini API quotas\"\n",
      "  url: \"https://ai.google.dev/gemini-api/docs/rate-limits\"\n",
      "}\n",
      ", retry_delay {\n",
      "  seconds: 53\n",
      "}\n",
      "].\n"
     ]
    },
    {
     "data": {
      "text/plain": [
       "'\\n\\nI am sorry, I cannot answer in Arabic. Please provide the question in English.\\n\\nOkay, I am ready to answer theory questions as if in an exam, avoiding pronouns and using simple terms.\\n\\n**1. Question:** فتا سور اقاي (Assuming this is a placeholder or requires clarification as it\\'s not a recognizable term)\\n\\n**Answer:**\\n\\nThis question appears to be incomplete or requires clarification. I cannot provide a meaningful answer without knowing what \"فتا سور اقاي\" refers to. Please provide more context or a complete question.\\n\\nI am sorry, but I cannot answer the question \"النك زالفد هذاقدهلاانقدآدتنضلد فدااً\" as it is not in English, and I am unable to understand the context or meaning of the question.\\n\\nI am sorry, but I cannot provide an answer to that question. The query contains non-Latin characters and does not constitute a valid question in English. Therefore, I am unable to provide a relevant or helpful response.\\n\\nI am unable to answer the question as it is not in English and I cannot understand the context.\\n\\nThere seems to be a misunderstanding. The question provided, \"هررالسبفآنت مازكجيله,\" is not in English and appears to be a string of characters. Additionally, a question cannot have 0.0 marks; it must have a positive value. Therefore, I am unable to answer this query.\\n\\nI am unable to answer the question as it is not in English.\\n\\nThere seems to be a misunderstanding. The provided text \"باارولتى دنة وته جالسدالأبة زلك\" is not a question. It appears to be a string of characters in a language other than English. Therefore, it is impossible to answer it. Please provide a valid question in English to receive a helpful response.\\n\\nI am sorry, but I cannot answer that question. The question appears to be in a language I do not understand, and I am unable to provide a coherent response.\\n\\nI am unable to provide an answer to the question \"افلكذد دورقتص ا ايزللبالدجت\" as it appears to be in a language I do not understand. Additionally, the question is nonsensical and does not seem to relate to any established field of study. Therefore, I cannot provide a meaningful response.\\n\\nIt seems there is a misunderstanding, I need a question to answer it properly. The prompt \"لكوا دنبكنة رمبد اولادجاطامبلن\" does not seem to be a valid question. Please provide the question you would like answered, labeled as question number 10, and I will provide an answer formatted for an exam setting, with the appropriate length based on the mark value you specify.\\n\\nI am sorry, but I cannot answer the question \"طراع الايد دم زاعالمآنملان\" as it is not in English, and I do not have the context to understand what it is asking. Additionally, assigning a mark of 0.0 is not valid for exam questions. Please provide the question in English and specify the correct mark allocation for me to provide a helpful answer.\\n\\nI am sorry, but I cannot provide an answer to the question \"رهن رند ززلاوآ رارل رشناززانهنت ^\" as it is not in a language I can understand or process. Therefore, I am unable to formulate a relevant or meaningful response, nor can I provide examples.\\n\\nSince the question is incomprehensible and has a mark allocation of 0.0, no answer will be provided. It is assumed the question is invalid or a placeholder.\\n\\nIt seems there\\'s a misunderstanding. The provided text \"ذالنندالسابد نمللاقاردبورفل هدالانجييل\" is not a recognizable question in any standard language. Additionally, assigning a 0.0 mark value to a question is not a typical practice in educational assessments.\\n\\nTherefore, I cannot provide an answer to this query. Please provide a valid question for me to answer.\\n\\nI am unable to provide an answer. The question provided appears to be in a language I do not understand. I am designed to answer questions in English.'"
      ]
     },
     "execution_count": 9,
     "metadata": {},
     "output_type": "execute_result"
    }
   ],
   "source": [
    "Answers = \"\"\n",
    "for index, question in enumerate(Questions):\n",
    "    prompt = (prompt_template.invoke({\"question\": question['text'], \"mark\": question['marks'], \"questionId\" : index}))\n",
    "    response = model.invoke(prompt)\n",
    "    Answers = Answers + \"\\n\\n\" + response.content\n",
    "Answers"
   ]
  },
  {
   "cell_type": "code",
   "execution_count": 10,
   "id": "b921bb25",
   "metadata": {},
   "outputs": [
    {
     "ename": "UnicodeEncodeError",
     "evalue": "'charmap' codec can't encode characters in position 210-212: character maps to <undefined>",
     "output_type": "error",
     "traceback": [
      "\u001b[1;31m---------------------------------------------------------------------------\u001b[0m",
      "\u001b[1;31mUnicodeEncodeError\u001b[0m                        Traceback (most recent call last)",
      "Cell \u001b[1;32mIn[10], line 2\u001b[0m\n\u001b[0;32m      1\u001b[0m \u001b[38;5;28;01mwith\u001b[39;00m \u001b[38;5;28mopen\u001b[39m(\u001b[38;5;124m\"\u001b[39m\u001b[38;5;124m../textFiles/AnswerText2.txt\u001b[39m\u001b[38;5;124m\"\u001b[39m, \u001b[38;5;124m\"\u001b[39m\u001b[38;5;124mw\u001b[39m\u001b[38;5;124m\"\u001b[39m) \u001b[38;5;28;01mas\u001b[39;00m f:\n\u001b[1;32m----> 2\u001b[0m     \u001b[43mf\u001b[49m\u001b[38;5;241;43m.\u001b[39;49m\u001b[43mwrite\u001b[49m\u001b[43m(\u001b[49m\u001b[43mAnswers\u001b[49m\u001b[43m)\u001b[49m\n",
      "File \u001b[1;32m~\\AppData\\Local\\Programs\\Python\\Python310\\lib\\encodings\\cp1252.py:19\u001b[0m, in \u001b[0;36mIncrementalEncoder.encode\u001b[1;34m(self, input, final)\u001b[0m\n\u001b[0;32m     18\u001b[0m \u001b[38;5;28;01mdef\u001b[39;00m\u001b[38;5;250m \u001b[39m\u001b[38;5;21mencode\u001b[39m(\u001b[38;5;28mself\u001b[39m, \u001b[38;5;28minput\u001b[39m, final\u001b[38;5;241m=\u001b[39m\u001b[38;5;28;01mFalse\u001b[39;00m):\n\u001b[1;32m---> 19\u001b[0m     \u001b[38;5;28;01mreturn\u001b[39;00m \u001b[43mcodecs\u001b[49m\u001b[38;5;241;43m.\u001b[39;49m\u001b[43mcharmap_encode\u001b[49m\u001b[43m(\u001b[49m\u001b[38;5;28;43minput\u001b[39;49m\u001b[43m,\u001b[49m\u001b[38;5;28;43mself\u001b[39;49m\u001b[38;5;241;43m.\u001b[39;49m\u001b[43merrors\u001b[49m\u001b[43m,\u001b[49m\u001b[43mencoding_table\u001b[49m\u001b[43m)\u001b[49m[\u001b[38;5;241m0\u001b[39m]\n",
      "\u001b[1;31mUnicodeEncodeError\u001b[0m: 'charmap' codec can't encode characters in position 210-212: character maps to <undefined>"
     ]
    }
   ],
   "source": [
    "with open(\"../textFiles/AnswerText2.txt\", \"w\") as f:\n",
    "    f.write(Answers)"
   ]
  },
  {
   "cell_type": "code",
   "execution_count": null,
   "id": "dbe1898c",
   "metadata": {},
   "outputs": [],
   "source": []
  }
 ],
 "metadata": {
  "kernelspec": {
   "display_name": "venv",
   "language": "python",
   "name": "python3"
  },
  "language_info": {
   "codemirror_mode": {
    "name": "ipython",
    "version": 3
   },
   "file_extension": ".py",
   "mimetype": "text/x-python",
   "name": "python",
   "nbconvert_exporter": "python",
   "pygments_lexer": "ipython3",
   "version": "3.10.7"
  }
 },
 "nbformat": 4,
 "nbformat_minor": 5
}
